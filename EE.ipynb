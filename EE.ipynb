{
 "cells": [
  {
   "cell_type": "markdown",
   "id": "12da79cb-131b-4edd-9a88-243332beb92f",
   "metadata": {},
   "source": [
    "# Modelagem no Espaço de Estados\n",
    "\n",
    "Este material serve apenas como um guia para estudos e para as aulas, não substituindo a leitura dos livros indicados e é de uso exclusivo dos alunos do CEFET/RJ campus Angra dos Reis."
   ]
  },
  {
   "cell_type": "markdown",
   "id": "dfcd5f0b-8bbb-4dea-ade4-18f35cdf6c45",
   "metadata": {},
   "source": [
    "## Variáveis de Estado"
   ]
  },
  {
   "cell_type": "markdown",
   "id": "51b3694e-5428-4af4-aacf-ad3354af6f4e",
   "metadata": {},
   "source": [
    "Um método-padrão para representar um sistema é usar as **variáveis de estado**, que são um conjunto de variáveis dinâmicas que definem completamente todas as suas características."
   ]
  },
  {
   "cell_type": "markdown",
   "id": "40135b34-7792-46b9-80a2-c2558beefa3c",
   "metadata": {},
   "source": [
    "As variáveis de estado podem ser usadas para determinar a energia armazenada do sistema."
   ]
  },
  {
   "cell_type": "markdown",
   "id": "4a35138a-c0b9-4f89-b78b-001616130789",
   "metadata": {},
   "source": [
    "O **estado** de um sistema é o conjunto mínimo de variáveis dinâmicas que podem definir completamente todas as suas características. Assim sendo, as variáveis de estado são as variáveis dinâmicas que descrevem o estado do sistema."
   ]
  },
  {
   "cell_type": "markdown",
   "id": "ed38c737-69fe-4fc3-87d8-9f959cb70cae",
   "metadata": {},
   "source": [
    "A convenção padrão é utilizar $x_1$, $x_2$, ..., $x_n$ como as variáveis de estado e $u_1$, $u_2$, ...,$u$ como as variáveis de **entrada** (ou controle). O inteiro $n$ é o número total de variáveis de estado, ou a ordem do sistema, e o inteiro $r$ é o número total de variáves de entrada."
   ]
  },
  {
   "cell_type": "markdown",
   "id": "e38a1c67-9d08-4665-9bf5-defbfb732548",
   "metadata": {},
   "source": [
    "As **equações em variáves de estado** são um conjunto de $n$ equações diferenciais derivadas de primeira ordem de cada variável de estado. "
   ]
  },
  {
   "cell_type": "markdown",
   "id": "507cb78c-64b6-425a-b70c-1faf788463e3",
   "metadata": {},
   "source": [
    "$\\dot{x}_1 = f_1(x_1,x_2,...,x_n,u_1,u_2,...,u_r)$\n",
    "\n",
    "$\\dot{x}_2 = f_2(x_1,x_2,...,x_n,u_1,u_2,...,u_r)$\n",
    "\n",
    ".\n",
    ".\n",
    ".\n",
    "\n",
    "$\\dot{x}_n = f_n(x_1,x_2,...,x_n,u_1,u_2,...,u_r)$"
   ]
  },
  {
   "cell_type": "markdown",
   "id": "a0cd708d-ca4c-40f3-82ab-bab05accbb1c",
   "metadata": {},
   "source": [
    "As funções do lado direito $f_1$, $f_2$, ..., $f_n$ podem ser lineares ou não lineares, e depender apenas das variáveis de estado $x_i$ ou das entradas $u_j$. "
   ]
  },
  {
   "cell_type": "markdown",
   "id": "978831af-d797-4185-b23e-1306ca8d39bd",
   "metadata": {},
   "source": [
    "Se todas as funções $f_i$ são lineares, então as equações em variáveis de estado podem ser escritas em um formato conveniente matriz-vetor denominado **representação no espaço de estados** (REE)\n",
    "\n",
    "Se ao menos uma única função $f_i$ é não linear, tem-se duas opções: \n",
    "1. usar um método de integração numérica (como o Runge-Kutta) para obter a resposta do sistema\n",
    "2. desenvolver uma aproximação linear (linearização)\n",
    "\n",
    "Em qualquer caso, desenvolver as equações em variáveis de estado é o primeiro passo."
   ]
  },
  {
   "cell_type": "markdown",
   "id": "0a98e379-62d7-4b39-9f78-23026237d42f",
   "metadata": {},
   "source": [
    "**Exemplo 1:**\n",
    "\n",
    "Determine as equações em variáveis de estado para o sistema modelado pelas seguintes EDOs, nas quais $z$ e $w$ são as variáveis dinâmicas e $v$ é a entrada\n",
    "\n",
    "$2\\ddot{z} + 0,8z - 0,4w + 0,2\\dot{z}w = 0$\n",
    "\n",
    "$4\\dot{w} + 3w + 0,1w^3 - 6z = 8v$"
   ]
  },
  {
   "cell_type": "markdown",
   "id": "684a7c26-9423-488d-974b-6963d9f450a3",
   "metadata": {},
   "source": [
    "## Representação no Espaço de Estados"
   ]
  },
  {
   "cell_type": "markdown",
   "id": "619e5e34-d72d-4f48-8adb-76816e158d3c",
   "metadata": {},
   "source": [
    "Se as equações que modelam matematicamente um sistema são lineares, então a representação em variáveis de estado será composta por EDOs de primeira ordem lineares. Nesse caso, pode-se escrever o modelo em formato matriz-vetor conveniente denominado **representação no espaço de estado** (REE), que é muito adequado para implementação em simulações computacionais numéricas. "
   ]
  },
  {
   "cell_type": "markdown",
   "id": "6ae59be4-cbf6-4fc1-87c4-d88d38d06f3b",
   "metadata": {},
   "source": [
    "* Um sistema de nª ordem requer $n$ variáveis de estado $x_1$, $x_2$, ..., $x_n$."
   ]
  },
  {
   "cell_type": "markdown",
   "id": "1859ba61-e5a2-460a-9675-f37591ef0d75",
   "metadata": {},
   "source": [
    "Define-se o vetor de estado $\\vec{x}$ como o vetor coluna $n \\times 1$ composto pelas variáveis de estado $x_i$"
   ]
  },
  {
   "cell_type": "markdown",
   "id": "9fe969a3-08b0-47a6-b8fe-e7797d8a5f0e",
   "metadata": {},
   "source": [
    "$$ \\vec{x} = \\left[ \\begin{array}{c} x_1 \\\\ x_2 \\\\ ... \\\\ x_n  \\end{array} \\right] $$ "
   ]
  },
  {
   "cell_type": "markdown",
   "id": "7382064e-e279-412a-94cb-4fc8b660878d",
   "metadata": {},
   "source": [
    "O espaço de estados é definido como o \"espaço geométrico\" n-dimensional que contém o vetor de estado $\\vec{x}$"
   ]
  },
  {
   "cell_type": "markdown",
   "id": "5a4b25f1-ecfc-43b6-9504-98c4c03cebc1",
   "metadata": {},
   "source": [
    "As variáveis de saída denominadas $y_1$, $y_2$, ..., $y_m$, são funções das variáveis de estado e da entrada:\n",
    "\n",
    "$y_1 = h_1(x_1, x_2, ..., x_n, u_1, u_2, ..., u_r)$\n",
    "\n",
    "$y_2 = h_2(x_1, x_2, ..., x_n, u_1, u_2, ..., u_r)$\n",
    "\n",
    ".  \n",
    ".  \n",
    ".  \n",
    "\n",
    "$y_m = h_m(x_1,x_2,...,x_n,u_1,u_2,...,u_r)$"
   ]
  },
  {
   "cell_type": "markdown",
   "id": "750f8a2a-dfc3-4a18-8a48-51f3561a2368",
   "metadata": {},
   "source": [
    "As equações de saída podem ser lineares ou não lineares; entretanto devem ser lineares de modo a empregar a REE matriz-vetor."
   ]
  },
  {
   "cell_type": "markdown",
   "id": "e21f539a-80ad-4879-ad2e-216e63e6c69b",
   "metadata": {},
   "source": [
    "Se o sistema for linear invariante no tempo (LIT), ele pode ser reescrito como: \n",
    "\n",
    "$\\dot{\\vec{x}} = A \\vec{x} + B \\vec{u}$    ← Equação de estado\n",
    "\n",
    "$\\vec{y} = C \\vec{x} + D \\vec{u}$    ← Equação de saída\n",
    "\n",
    "onde:\n",
    "\n",
    "$ \\dot{\\vec{x}} = \\left[ \\begin{array}{c} \\dot{x}_1 \\\\ \\dot{x}_2 \\\\ ... \\\\ \\dot{x}_n  \\end{array} \\right] $\n",
    "\n",
    "$ \\vec{u} = \\left[ \\begin{array}{c} u_1 \\\\ u_2 \\\\ ... \\\\ u_r  \\end{array} \\right] $ \n",
    "\n",
    "$ \\vec{y} = \\left[ \\begin{array}{c} y_1 \\\\ y_2 \\\\ ... \\\\ y_m  \\end{array} \\right] $"
   ]
  },
  {
   "cell_type": "markdown",
   "id": "007a26c8-91a9-46fb-b06f-66ef5c9067c9",
   "metadata": {},
   "source": [
    "**Exemplo 2:**\n",
    "\n",
    "Considere o sistema mecânico indicado na figura a seguir. Admitimos que o sistema seja linear. A força externa $u(t)$  é a entrada do sistema, e o deslocamento $y(t)$ da massa é a saída. O deslocamento é medido a partir da posição de equilíbrio, na ausência da força externa. Este é um sistema de entrada e saídas únicas. Represente o sistema utilizando espaço de estados e o simule para os seguintes dados:\n",
    "\n",
    "m = 10kg\n",
    "k = 100N/m\n",
    "c = 6N.s/m\n",
    "  \n",
    "\n",
    "![](https://paper-attachments.dropbox.com/s_B7B7589978C0AC41B3D77D7C058BA7A624F97D64CF13504D135CF82FB407646D_1664300863444_image.png)\n",
    "\n"
   ]
  },
  {
   "cell_type": "markdown",
   "id": "fa6a6efb-43cf-4a90-bbb0-d3b109337bc7",
   "metadata": {},
   "source": [
    "**Exemplo 3:**\n",
    "Modele o sistema conhecida como \"um quarto de carro\" (*quarter-car*), o represente em espaço de estados e simule o sistema para os seguintes dados:\n",
    "\n"
   ]
  },
  {
   "cell_type": "markdown",
   "id": "52029668-cf48-4dd8-85cb-967473b27a79",
   "metadata": {},
   "source": [
    "## Correlação entre funções de transferência e equações no espaço de estados\n",
    "\n",
    "Consideremos o sistema cuja função de transferência é dada por:\n",
    "\n",
    "$\\dfrac{Y(s)}{U(s)} = G(s)$\n",
    "\n",
    "$\\dot{\\vec{x}} = {A}\\vec{x} + {B} u$\n",
    "\n",
    "$y = {C}\\vec{x} + Du$\n",
    "\n",
    "A transformada de Laplace dessas equações é dada por:\n",
    "\n",
    "$s\\vec{X}(s) - \\vec{x}(0) = {A}\\vec{X}(s) + {B}U(s)$\n",
    "\n",
    "$Y(s) = {C}\\vec{X}(s) + DU(s)$\n",
    "\n",
    "Considerando condições iniciais nulas:\n",
    "\n",
    "$s\\vec{X}(s) - {A}\\vec{X}(s) = {B}U(s)$\n",
    "\n",
    "ou\n",
    "\n",
    "$(s{I} - {A})\\vec{X}(s) = {B}U(s)$\n",
    "\n",
    "$\\vec{X}(s) = (s{I} - {A})^{-1}{B}U(s)$\n",
    "\n",
    "$Y(s) = [{C}(s{I} - {A})^{-1}{B} + D]U(s)$\n",
    "\n",
    "Logo:\n",
    "\n",
    "$G(s) = {C}(s{I} - {A})^{-1}{B} + D$\n",
    "\n",
    "Esta é a expressão da função de transferência em termos de ${A}$, ${B}$, ${C}$ e D."
   ]
  }
 ],
 "metadata": {
  "kernelspec": {
   "display_name": "Python 3 (ipykernel)",
   "language": "python",
   "name": "python3"
  },
  "language_info": {
   "codemirror_mode": {
    "name": "ipython",
    "version": 3
   },
   "file_extension": ".py",
   "mimetype": "text/x-python",
   "name": "python",
   "nbconvert_exporter": "python",
   "pygments_lexer": "ipython3",
   "version": "3.10.6"
  }
 },
 "nbformat": 4,
 "nbformat_minor": 5
}
