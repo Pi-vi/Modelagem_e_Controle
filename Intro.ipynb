{
 "cells": [
  {
   "cell_type": "markdown",
   "id": "2092196d",
   "metadata": {},
   "source": [
    "# Introdução aos sistemas de controle\n",
    "Este material serve apenas como um guia para estudos e para as aulas, não substituindo a leitura dos livros indicados e é de uso exclusivo dos alunos do CEFET/RJ campus Angra dos Reis."
   ]
  },
  {
   "cell_type": "markdown",
   "id": "550fe47e",
   "metadata": {},
   "source": [
    "Na solução de problemas de engenharia, é necessário compreender e determinar a resposta dinâmica de sistemas físicos que podem consistir em vários componentes. Esses esforços envolvem *modelagem, análise* e *simulação*. \n"
   ]
  },
  {
   "cell_type": "markdown",
   "id": "d38e8e3e",
   "metadata": {},
   "source": [
    "Geralmente, construir um sistema protótipo e conduzir testes experimentais pode ser impraticável ou muito caro para um projeto preliminar. Assim sendo, a modelagem matemática, a análise e simulação de sistemas de engenharia auxiliam imensamente no processo de projeto"
   ]
  },
  {
   "cell_type": "markdown",
   "id": "ff514a20",
   "metadata": {},
   "source": [
    "O controle automático é essencial em qualquer campo da engenharia e da ciência. O controle automático é um componente intrínseco em sistemas de veículos espaciais, sistemas robóticos, modernos sistemas de manufatura e quaisquer operações industriais que envolvam o controle de temperatura, pressão, umidade, viscosidade, vazão etc. É desejável que a maioria dos engenheiros e cientistas esteja familiarizada com a teoria e prática do controle automático. "
   ]
  },
  {
   "cell_type": "markdown",
   "id": "93af1f9b",
   "metadata": {},
   "source": [
    "As teorias de controle comumente usadas hoje são:\n",
    "\n",
    "- Teoria de controle clássico (também chamada de teoria de controle convencional)\n",
    "- teoria de controle moderno\n",
    "- teoria de controle robusto"
   ]
  },
  {
   "cell_type": "markdown",
   "id": "476a93a4",
   "metadata": {},
   "source": [
    "## Por que estudar modelagem e controle de sistemas?"
   ]
  },
  {
   "cell_type": "code",
   "execution_count": 1,
   "id": "998cb171",
   "metadata": {},
   "outputs": [],
   "source": [
    "from IPython.display import IFrame"
   ]
  },
  {
   "cell_type": "code",
   "execution_count": 7,
   "id": "5393a2b1",
   "metadata": {},
   "outputs": [
    {
     "data": {
      "text/html": [
       "\n",
       "        <iframe\n",
       "            width=\"640\"\n",
       "            height=\"360\"\n",
       "            src=\"https://www.youtube.com/embed/1sJlFzUQVmY\"\n",
       "            frameborder=\"0\"\n",
       "            allowfullscreen\n",
       "            \n",
       "        ></iframe>\n",
       "        "
      ],
      "text/plain": [
       "<IPython.lib.display.IFrame at 0x7f990519ed40>"
      ]
     },
     "execution_count": 7,
     "metadata": {},
     "output_type": "execute_result"
    }
   ],
   "source": [
    "IFrame(\"https://www.youtube.com/embed/1sJlFzUQVmY\",640,360)"
   ]
  },
  {
   "cell_type": "code",
   "execution_count": 8,
   "id": "d1d89380",
   "metadata": {},
   "outputs": [
    {
     "data": {
      "text/html": [
       "\n",
       "        <iframe\n",
       "            width=\"640\"\n",
       "            height=\"360\"\n",
       "            src=\"https://www.youtube.com/embed/tF4DML7FIWk\"\n",
       "            frameborder=\"0\"\n",
       "            allowfullscreen\n",
       "            \n",
       "        ></iframe>\n",
       "        "
      ],
      "text/plain": [
       "<IPython.lib.display.IFrame at 0x7f990519e7d0>"
      ]
     },
     "execution_count": 8,
     "metadata": {},
     "output_type": "execute_result"
    }
   ],
   "source": [
    "IFrame(\"https://www.youtube.com/embed/tF4DML7FIWk\",640,360)"
   ]
  },
  {
   "cell_type": "code",
   "execution_count": 9,
   "id": "0f5f0f78",
   "metadata": {},
   "outputs": [
    {
     "data": {
      "text/html": [
       "\n",
       "        <iframe\n",
       "            width=\"640\"\n",
       "            height=\"360\"\n",
       "            src=\"https://www.youtube.com/embed/UeTCkOr51s4\"\n",
       "            frameborder=\"0\"\n",
       "            allowfullscreen\n",
       "            \n",
       "        ></iframe>\n",
       "        "
      ],
      "text/plain": [
       "<IPython.lib.display.IFrame at 0x7f990519c1c0>"
      ]
     },
     "execution_count": 9,
     "metadata": {},
     "output_type": "execute_result"
    }
   ],
   "source": [
    "IFrame(\"https://www.youtube.com/embed/UeTCkOr51s4\",640,360)"
   ]
  },
  {
   "cell_type": "code",
   "execution_count": 10,
   "id": "bd161542",
   "metadata": {},
   "outputs": [
    {
     "data": {
      "text/html": [
       "\n",
       "        <iframe\n",
       "            width=\"640\"\n",
       "            height=\"360\"\n",
       "            src=\"https://www.youtube.com/embed/3zhwik46yJY\"\n",
       "            frameborder=\"0\"\n",
       "            allowfullscreen\n",
       "            \n",
       "        ></iframe>\n",
       "        "
      ],
      "text/plain": [
       "<IPython.lib.display.IFrame at 0x7f990519cf70>"
      ]
     },
     "execution_count": 10,
     "metadata": {},
     "output_type": "execute_result"
    }
   ],
   "source": [
    "IFrame(\"https://www.youtube.com/embed/3zhwik46yJY\",640,360)"
   ]
  },
  {
   "cell_type": "markdown",
   "id": "ea848d83",
   "metadata": {},
   "source": [
    "## Definições: \n",
    "\n",
    "Antes de discutirmos os sistemas de controle, é necessário que seja definida a terminologia básica.\n"
   ]
  },
  {
   "cell_type": "markdown",
   "id": "e73ff0ab",
   "metadata": {},
   "source": [
    "**Variável controlada e sinal de controle ou variável manipulada**  → a variável controlada é a grandeza ou a condição que é medida e controlada. O sinal de controle ou variável manipulada é a grandeza ou a condição modificada pelo controlador, de modo que afete o valor\n",
    " da variável controlada, Normalmente, a variável controlada é a saída do sistema. "
   ]
  },
  {
   "cell_type": "markdown",
   "id": "8156f9ec",
   "metadata": {},
   "source": [
    " **Controlar significa medir o valor da variável controlada do sistema e aplicar o sinal de controle ao sistema para corrigir ou limitar os desvios do valor medido a partir de um valor desejado.**"
   ]
  },
  {
   "cell_type": "markdown",
   "id": "5b4efd22",
   "metadata": {},
   "source": [
    "**Plantas** → Uma planta pode ser uma parte de equipamento ou apenas um conjunto de componentes de um equipamento que funcione de maneira integrada, com o objetivo de realizar determinada operação. Neste livro, denominaremos planta qualquer objeto físico a ser controlado (como um **componente mecânico, um forno, um reator químico ou uma espaçonave**)."
   ]
  },
  {
   "cell_type": "markdown",
   "id": "1d1c9562",
   "metadata": {},
   "source": [
    " **Processos** → Toda operação a ser controlada.\n",
    " "
   ]
  },
  {
   "cell_type": "markdown",
   "id": "9e883817",
   "metadata": {},
   "source": [
    " **Sistemas** → Um sistema é a combinação de componentes que agem em conjunto para atingir determinado objetivo. A ideia de sistemas não fica restrita apenas a algo físico. O conceito sistema pode ser aplicado a fenômenos abstratos dinâmicos, como aqueles encontrados na economia. "
   ]
  },
  {
   "cell_type": "markdown",
   "id": "9bf7acd8",
   "metadata": {},
   "source": [
    " **Distúrbios** → Um distúrbio é um sinal que tende a afetar de maneira adversa o valor da variável de saída do sistema. Se um distúrbio for gerado dentro do sistema, ele será chamado distúrbio interno, enquanto um distúrbio externo é aquele gerado fora do sistema e que se comporta como um sinal de entrada  no sistema."
   ]
  },
  {
   "cell_type": "markdown",
   "id": "a6d7b4e3",
   "metadata": {},
   "source": [
    " **Controle com realimentação** → Controle com realimentação refere-se a uma operação que, na presença de distúrbios, tende a diminuir a diferença entre a saída de um sistema e alguma entrada de referência e atua com base nessa diferença. Aqui, serão considerados apenas distúrbios não previsíveis, uma vez que distúrbios conhecidos ou previsíveis sempre podem ser compensados no sistema."
   ]
  },
  {
   "cell_type": "markdown",
   "id": "dc15800f",
   "metadata": {},
   "source": [
    "## Exemplos de sistemas de controle\n",
    "\n",
    "A seguir, serão mostrados alguns exemplos de sistemas de controle."
   ]
  },
  {
   "cell_type": "markdown",
   "id": "1dd0ba61",
   "metadata": {},
   "source": [
    "**Sistema de controle de velocidade**\n",
    "O primeiro trabalho significativo de controle automático foi o regulador centrífugo construído por James Watt para o controle de velocidade de uma máquina a vapor, no século XVIII. "
   ]
  },
  {
   "cell_type": "markdown",
   "id": "7aabc048",
   "metadata": {},
   "source": [
    "![](https://paper-attachments.dropbox.com/s_C16947E72783C0A2FE1E43682EE36D9C9D0F9DC10823A01BA5A9FB2E9BB469B7_1663271242815_image.png)"
   ]
  },
  {
   "cell_type": "code",
   "execution_count": 11,
   "id": "368f395c",
   "metadata": {},
   "outputs": [
    {
     "data": {
      "text/html": [
       "\n",
       "        <iframe\n",
       "            width=\"640\"\n",
       "            height=\"360\"\n",
       "            src=\"https://www.youtube.com/embed/OiHb2L8ei8E\"\n",
       "            frameborder=\"0\"\n",
       "            allowfullscreen\n",
       "            \n",
       "        ></iframe>\n",
       "        "
      ],
      "text/plain": [
       "<IPython.lib.display.IFrame at 0x7f990519ef80>"
      ]
     },
     "execution_count": 11,
     "metadata": {},
     "output_type": "execute_result"
    }
   ],
   "source": [
    "IFrame(\"https://www.youtube.com/embed/OiHb2L8ei8E\",640,360)"
   ]
  },
  {
   "cell_type": "markdown",
   "id": "ae1e0fdd",
   "metadata": {},
   "source": [
    "**Sistema de controle de temperatura** \n",
    "\n",
    "![](https://paper-attachments.dropbox.com/s_C16947E72783C0A2FE1E43682EE36D9C9D0F9DC10823A01BA5A9FB2E9BB469B7_1663271774372_image.png)"
   ]
  },
  {
   "cell_type": "markdown",
   "id": "928285ef",
   "metadata": {},
   "source": [
    "**Sistemas empresariais**\n",
    "\n",
    "![](https://paper-attachments.dropbox.com/s_C16947E72783C0A2FE1E43682EE36D9C9D0F9DC10823A01BA5A9FB2E9BB469B7_1663275321711_image.png)"
   ]
  },
  {
   "cell_type": "markdown",
   "id": "37ff1c87",
   "metadata": {},
   "source": [
    "## Controle de malha fechada versus controle de malha aberta"
   ]
  },
  {
   "cell_type": "markdown",
   "id": "beeb3587",
   "metadata": {},
   "source": [
    "**Sistemas de controle com realimentação ou sistemas de controle de malha fechada**"
   ]
  },
  {
   "cell_type": "markdown",
   "id": "48ff38af",
   "metadata": {},
   "source": [
    "**Sistemas de controle de malha aberta**"
   ]
  },
  {
   "cell_type": "markdown",
   "id": "1ff89639",
   "metadata": {},
   "source": [
    "Exemplos de sistemas de controle de malha aberta e fechada?"
   ]
  },
  {
   "cell_type": "markdown",
   "id": "ed81e464",
   "metadata": {},
   "source": [
    "**Sistemas de controle de malha fechada versus malha aberta**\n",
    "\n",
    "Uma vantagem do sistema de controle de malha fechada é o fato de que o uso da realimentação faz que a resposta do sistema seja relativamente insensível a distúrbios externos e a variações internas nos parâmetros do sistema. \n",
    "\n",
    "Seguem as principais vantagens dos sistemas de controle de malha aberta:\n",
    "\n",
    "\n",
    "1. São simples de ser construídos e têm fácil manutenção.\n",
    "2. São menos dispendiosos que um sistema correspondente de malha fechada.\n",
    "3. Não apresentam problemas de estabilidade.\n",
    "4. São adequados quando existem dificuldades de medição de saída ou quando a medição precisa da saída não é economicamente possível. \n",
    "\n",
    "As principais desvantagens dos sistemas de controle de malha aberta são:\n",
    "\n",
    "\n",
    "1. Distúrbios e mudanças na calibração causam erros, e a saída pode apresentar diferenças em relação ao padrão desejado.\n",
    "2. Para que a saída mantenha a qualidade requerida, é necessária uma regulagem periódica. "
   ]
  },
  {
   "cell_type": "markdown",
   "id": "657145c1",
   "metadata": {},
   "source": [
    "## Projeto e compensação de sistemas de controle\n",
    "\n",
    "Compensação é a modificação da dinâmica do sistema para satisfazer às especificações dadas.\n",
    "\n",
    "Procedimentos de projeto → No processo de projetar um sistemas de controle, montamos um modelo matemático do sistema de controle e ajustamos os parâmetros de um compensador. A parte do processo que mais consome tempo é a verificação do desempenho do sistema, por meio da análise de cada ajuste dos parâmetros. **O projetista deve usar o MATLAB ou outro software disponível para evitar boa parte do trabalho matemático enfadonho, necessário a essa verificação.** "
   ]
  }
 ],
 "metadata": {
  "kernelspec": {
   "display_name": "Python 3 (ipykernel)",
   "language": "python",
   "name": "python3"
  },
  "language_info": {
   "codemirror_mode": {
    "name": "ipython",
    "version": 3
   },
   "file_extension": ".py",
   "mimetype": "text/x-python",
   "name": "python",
   "nbconvert_exporter": "python",
   "pygments_lexer": "ipython3",
   "version": "3.10.6"
  }
 },
 "nbformat": 4,
 "nbformat_minor": 5
}
