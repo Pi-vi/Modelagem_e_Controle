{
 "cells": [
  {
   "cell_type": "markdown",
   "id": "0d1adf84",
   "metadata": {},
   "source": [
    "# Fundamentos de Projeto de Controladores"
   ]
  },
  {
   "cell_type": "markdown",
   "id": "a4479128-5a84-49c5-818f-75ed09eebd3f",
   "metadata": {},
   "source": [
    "----\n",
    "Este material serve apenas como um guia para estudos e para as aulas, não substituindo a leitura dos livros indicados e é de uso exclusivo dos alunos do CEFET/RJ campus Angra dos Reis.\n",
    "\n",
    "---"
   ]
  },
  {
   "cell_type": "markdown",
   "id": "a37deff2-9313-471a-8d0a-fcd0f7f70447",
   "metadata": {},
   "source": [
    "## Sintonia de Controladores"
   ]
  },
  {
   "cell_type": "markdown",
   "id": "3c83725f-4b00-4cc8-a9fb-82233fd7a52b",
   "metadata": {},
   "source": [
    "* aumentar o ganho proporcional $K_P$ tende a tornar a resposta mais rápida, mas pode aumentar o sobrevalor;\n",
    "* aumentar o ganho integral $K_I$ tende a reduzir o erro em regime permanente, mas pode tornar a resposta mais lenta;\n",
    "* aumentar o ganho derivativo $K_D$ tende a reduzir o sobrevalor e o tempo de assentamento. \n",
    "\n",
    "**implementar um controlador PID requer selecionar três ganhos independentes de modo a atingir um bom equilíbrio dos critérios de desempenho da malha fechada tais como tempo de resposta, sobrevalor, tempo de assentamento e erro em regime permanente.** \n",
    "\n"
   ]
  },
  {
   "cell_type": "markdown",
   "id": "618adcd8-2024-488b-954a-dad422e1ab18",
   "metadata": {},
   "source": [
    "Ziegler e Nichols desenvolveram dois métodos para seleção de \"bons\" ganhos PID. \n",
    "\n",
    "Essas \"regras de sintonia dos PID\" foram baseadas em tentativas heurísticas conduzidas por Ziegler e Nichols e elas fornecem aos engenheiros de controle um bom ponto de partida para a seleção dos ganhos de um PID que possibilitam um desempenho satisfatório da malha fechada. \n",
    "\n",
    "Os parâmetros-chave da curva de reação são tempo de retardo $T_d$ e a inclinação $R$. \n",
    "\n",
    "A curva de reação é a resposta do sistema de malha aberta a uma entrada do tipo degrau. \n",
    "\n",
    "Ziegler e Nichols usaram esses dois parâmetros para determinar os ganhos PID que produzem uma resposta em malha fechada que exibe uma razão de decaimento de um quarto, ou seja, a resposta transiente decai a um quarto do seu valor de pico em um período de oscilação. "
   ]
  },
  {
   "cell_type": "markdown",
   "id": "75a6723a-e89f-43a2-bc3e-e6eca8e0cec0",
   "metadata": {},
   "source": [
    "![](proj_cont_1.png)\n"
   ]
  },
  {
   "cell_type": "markdown",
   "id": "4d24f4cd-b77e-438e-bff7-bbde010a2851",
   "metadata": {},
   "source": [
    "Regras de sintonia dos ganhos para os controladores P, PI e PID. \n",
    "\n",
    "![](proj_cont_2.png)\n"
   ]
  },
  {
   "cell_type": "markdown",
   "id": "76060d4c-6d66-45f9-adbf-83b6b917191a",
   "metadata": {},
   "source": [
    "O segundo método de sintonia dos PID desenvolvido por Ziegles e Nichols depende da obtenção de uma resposta em malha fechada **marginalmente estável** com um ajuste de elevados ganhos. \n",
    "\n",
    "Nessa técnica, o ganho do controlador P é continuamente aumentado até que a resposta da malha fechada passe de oscilações senoidais amortecidas para oscilações permanentes com amplitude constante. \n",
    "\n",
    "Ziegler e Nichols denominaram o ajuste do ganho P que resulta nas oscilações permanentes de \"ganho final\" $K_F$. \n",
    "\n",
    "O período das oscilações permanentes é $P_F$ (o \"período final\").\n"
   ]
  },
  {
   "cell_type": "markdown",
   "id": "7d9a05dc-5188-4925-81fe-cdf8474b99be",
   "metadata": {},
   "source": [
    "![](proj_cont_3.png)"
   ]
  },
  {
   "cell_type": "markdown",
   "id": "490f4bd2-152b-436d-957c-f5247907d7d0",
   "metadata": {},
   "source": [
    "Em resumo, as regras de ajuste de Ziegler-Nichols permitem o engenheiro de controle obter o bom ponto de partida para selecionar os ganhos do PID. O projeto final do controlador PID pode ser realizado por meio de testes experimentais complementares ou simulações com ajustes adicionais de um ganho específico de modo a melhorar determinado aspecto da resposta transiente.\n",
    "\n",
    "Deve-se notar que o método de sintonia de Ziegler-Nichols não se aplica necessariamente a todos os sistemas físicos. Nem todas as plantas exibem uma resposta à entrada degrau na forma de S ou podem ser comandadas de modo a manter oscilações permanentes pelo aumento do ganho proporcional."
   ]
  },
  {
   "cell_type": "markdown",
   "id": "3bd7fd19-cfe1-40fb-9975-b86fa9ce21b5",
   "metadata": {
    "tags": []
   },
   "source": [
    "## Estabilidade de Malha Fechada"
   ]
  },
  {
   "cell_type": "markdown",
   "id": "dfd26c5b-f12e-41cf-9cc8-6fb8cb0e84da",
   "metadata": {},
   "source": [
    "Estabilidade é um atributo essencial para um sistema de controle de malha fechada. \n",
    "\n",
    "Espera-se que um sistema de controle em malha fechada estável permaneça \"sob controle\" durante todas as condições normais de operação.  \n",
    "\n",
    "Será empregada a definição de estabilidade denominada **entrada limitada, saída limitada** (BIBO - \"*Bounded-Input, Bounded-Output*\"): um sistema é BIBO estável se para toda entrada limitada a saída permanece limitada para todos os instantes de tempo. \n",
    "\n",
    "**Para sistemas lineares, invariantes no tempo (LIT), a estabilidade BIBO requer que todas as raízes características (ou polos ou autovalores) estejam no lado esquerdo do plano complexo.**  "
   ]
  },
  {
   "cell_type": "markdown",
   "id": "f132de36-655a-408d-b30e-4a77dd3b22bb",
   "metadata": {},
   "source": [
    "**Exemplo 1:** \n",
    "\n",
    "Análise a estabilidade do seguinte sistema: \n",
    "\n",
    "$T(s) = \\dfrac{K_P G_P (s)}{1 + K_P G_P(s)} =\\dfrac{K_P}{0,5s^3 + 4s^2 + 23s + K_P}$"
   ]
  },
  {
   "cell_type": "code",
   "execution_count": 1,
   "id": "84768f72-9282-4fc9-bb9d-59971834ccdd",
   "metadata": {},
   "outputs": [],
   "source": [
    "from control import *"
   ]
  },
  {
   "cell_type": "code",
   "execution_count": 2,
   "id": "578f238f-1405-4670-b78b-c6232df3e913",
   "metadata": {},
   "outputs": [
    {
     "data": {
      "text/latex": [
       "$$\\frac{1}{0.5 s^3 + 4 s^2 + 23 s + 64}$$"
      ],
      "text/plain": [
       "TransferFunction(array([1]), array([ 0.5,  4. , 23. , 64. ]))"
      ]
     },
     "execution_count": 2,
     "metadata": {},
     "output_type": "execute_result"
    }
   ],
   "source": [
    "Kp = 30\n",
    "\n",
    "sistema = tf([1],[0.5,4,23,34 + Kp])\n",
    "sistema"
   ]
  },
  {
   "cell_type": "code",
   "execution_count": 3,
   "id": "f24c47d4-d02d-41ad-9010-e09cc6e5dfcd",
   "metadata": {},
   "outputs": [
    {
     "data": {
      "text/plain": [
       "array([-1.87136313+5.15404596j, -1.87136313-5.15404596j,\n",
       "       -4.25727373+0.j        ])"
      ]
     },
     "execution_count": 3,
     "metadata": {},
     "output_type": "execute_result"
    }
   ],
   "source": [
    "poles(sistema)"
   ]
  },
  {
   "cell_type": "markdown",
   "id": "2a6e113b-ffaf-458e-8f38-8625a597f8fe",
   "metadata": {},
   "source": [
    "Observa-se que os 3 polos do sistema possuem raíz com a parte real negativa (estando no lado esquerdo do plano complexo), logo o sistema é BIBO estável. "
   ]
  },
  {
   "cell_type": "code",
   "execution_count": 4,
   "id": "0d03d12b-e69b-4a93-957b-10564d814d8a",
   "metadata": {},
   "outputs": [],
   "source": [
    "lista_Kp = [1,50,100,150,200,250]"
   ]
  },
  {
   "cell_type": "code",
   "execution_count": 5,
   "id": "404eda44-258e-4696-9a56-cb0e831490de",
   "metadata": {},
   "outputs": [
    {
     "name": "stdout",
     "output_type": "stream",
     "text": [
      "Kp -> Polos\n",
      "1 -> [-2.96131716+4.99270702j -2.96131716-4.99270702j -2.07736569+0.j        ]\n",
      "50 -> [-5.30094552+0.j        -1.34952724+5.4654584j -1.34952724-5.4654584j]\n",
      "100 -> [-6.93765069+0.j         -0.53117466+6.19254754j -0.53117466-6.19254754j]\n",
      "150 -> [-8.00000000e+00+0.j         -3.55271368e-15+6.78232998j\n",
      " -3.55271368e-15-6.78232998j]\n",
      "200 -> [-8.80906405+0.j          0.40453202+7.27759925j  0.40453202-7.27759925j]\n",
      "250 -> [-9.4733564+0.j          0.7366782+7.70810842j  0.7366782-7.70810842j]\n"
     ]
    }
   ],
   "source": [
    "print('Kp -> Polos')\n",
    "for i in lista_Kp:\n",
    "    sistema = tf([1],[0.5,4,23,34 + i])\n",
    "    polos = poles(sistema)\n",
    "    print(str(i) + ' -> ' + str(polos))"
   ]
  },
  {
   "cell_type": "markdown",
   "id": "cb8b16f5-ac0c-4643-a1cb-92fa57562c0f",
   "metadata": {},
   "source": [
    "| Ganho do Controlador, $K_p$ | Polos de Malha Fechada | Condição de Estabilidade |\n",
    "| --- | --- | --- |\n",
    "| 50 | $ s_1 = -5.3j$, $s_{2,3} = -2.96 \\pm 4.99j $| Estável |\n",
    "| 100 | $ s_1 = -5.3009$ , $ s_{2,3} = -1.34952 \\pm 5.465j $| Estável |\n",
    "| 150 | $ s_1 = -8.0 $,$ s_{2,3} = \\pm 6.7823j $ | Marginalmente estável |\n",
    "| 200 | $ s_1 = -8.8091 $,$ s_{2,3} = 0.4045 \\pm 7.2776j $ | Instável |\n",
    "| 250 | $ s_1 = -9.4734 $, $s_{2,3} = 0.7367 \\pm 7.7081j $| Instável |"
   ]
  },
  {
   "cell_type": "markdown",
   "id": "d74a2859-fa97-4b00-b988-45dafdc1666c",
   "metadata": {},
   "source": [
    "* Critério de estabilidade de Routh-Hurwitz"
   ]
  },
  {
   "cell_type": "markdown",
   "id": "b3862772-6331-43cf-ae81-2c1a7b49a55e",
   "metadata": {},
   "source": [
    "### Método do Lugar das Raízes"
   ]
  },
  {
   "cell_type": "code",
   "execution_count": 6,
   "id": "50ded8de-f12b-4991-a86e-0879fd2d2624",
   "metadata": {},
   "outputs": [],
   "source": [
    "sistema = tf([1],[0.5,4,23,34])"
   ]
  },
  {
   "cell_type": "code",
   "execution_count": 7,
   "id": "54627a59-381c-4719-b25f-0637309a40a7",
   "metadata": {},
   "outputs": [],
   "source": [
    "import matplotlib.pyplot as plt"
   ]
  },
  {
   "cell_type": "code",
   "execution_count": 8,
   "id": "d421b5ea-905d-4b39-8acc-b5da54e8cf32",
   "metadata": {},
   "outputs": [
    {
     "name": "stdout",
     "output_type": "stream",
     "text": [
      "Using matplotlib backend: <object object at 0x000001DD77C92120>\n"
     ]
    }
   ],
   "source": [
    "%matplotlib auto\n",
    "plt.figure(dpi=150)\n",
    "raizes,ganho = root_locus(sistema,print_gain = True,plot = True)"
   ]
  },
  {
   "cell_type": "code",
   "execution_count": 9,
   "id": "83298ac5-7c88-47a7-a138-d648a29bcab6",
   "metadata": {},
   "outputs": [],
   "source": [
    "import pandas as pd"
   ]
  },
  {
   "cell_type": "code",
   "execution_count": 10,
   "id": "87e2d335-7374-425b-903d-fea4bfee81dc",
   "metadata": {},
   "outputs": [
    {
     "data": {
      "text/html": [
       "<div>\n",
       "<style scoped>\n",
       "    .dataframe tbody tr th:only-of-type {\n",
       "        vertical-align: middle;\n",
       "    }\n",
       "\n",
       "    .dataframe tbody tr th {\n",
       "        vertical-align: top;\n",
       "    }\n",
       "\n",
       "    .dataframe thead th {\n",
       "        text-align: right;\n",
       "    }\n",
       "</style>\n",
       "<table border=\"1\" class=\"dataframe\">\n",
       "  <thead>\n",
       "    <tr style=\"text-align: right;\">\n",
       "      <th></th>\n",
       "      <th>Raíz 1</th>\n",
       "      <th>Raíz 2</th>\n",
       "      <th>Raíz 3</th>\n",
       "      <th>Ganho</th>\n",
       "    </tr>\n",
       "  </thead>\n",
       "  <tbody>\n",
       "    <tr>\n",
       "      <th>0</th>\n",
       "      <td>-3.0000000-5.0000000j</td>\n",
       "      <td>-3.0000000+5.0000000j</td>\n",
       "      <td>-2.0000000+0.0000000j</td>\n",
       "      <td>0.000000e+00</td>\n",
       "    </tr>\n",
       "    <tr>\n",
       "      <th>1</th>\n",
       "      <td>-2.6666670-4.9665550j</td>\n",
       "      <td>-2.6666670+4.9665550j</td>\n",
       "      <td>-2.6666670+0.0000000j</td>\n",
       "      <td>8.370370e+00</td>\n",
       "    </tr>\n",
       "    <tr>\n",
       "      <th>2</th>\n",
       "      <td>-2.6666670-4.9665550j</td>\n",
       "      <td>-2.6666670+4.9665550j</td>\n",
       "      <td>-2.6666670+0.0000000j</td>\n",
       "      <td>8.370370e+00</td>\n",
       "    </tr>\n",
       "    <tr>\n",
       "      <th>3</th>\n",
       "      <td>-1.9304630-5.1276360j</td>\n",
       "      <td>-1.9304630+5.1276360j</td>\n",
       "      <td>-4.1390750+0.0000000j</td>\n",
       "      <td>2.812615e+01</td>\n",
       "    </tr>\n",
       "    <tr>\n",
       "      <th>4</th>\n",
       "      <td>-1.3968630-5.4317470j</td>\n",
       "      <td>-1.3968630+5.4317470j</td>\n",
       "      <td>-5.2062740+0.0000000j</td>\n",
       "      <td>4.788193e+01</td>\n",
       "    </tr>\n",
       "    <tr>\n",
       "      <th>...</th>\n",
       "      <td>...</td>\n",
       "      <td>...</td>\n",
       "      <td>...</td>\n",
       "      <td>...</td>\n",
       "    </tr>\n",
       "    <tr>\n",
       "      <th>56</th>\n",
       "      <td>7.283980-017.9363530j</td>\n",
       "      <td>7.283980+017.9363530j</td>\n",
       "      <td>-22.567960+0.000000j</td>\n",
       "      <td>4.194887e+03</td>\n",
       "    </tr>\n",
       "    <tr>\n",
       "      <th>57</th>\n",
       "      <td>7.355531-018.0554700j</td>\n",
       "      <td>7.355531+018.0554700j</td>\n",
       "      <td>-22.711062+0.000000j</td>\n",
       "      <td>4.282281e+03</td>\n",
       "    </tr>\n",
       "    <tr>\n",
       "      <th>58</th>\n",
       "      <td>19.278294-38.332891j</td>\n",
       "      <td>19.278294+38.332891j</td>\n",
       "      <td>-46.556587+0.000000j</td>\n",
       "      <td>4.282281e+04</td>\n",
       "    </tr>\n",
       "    <tr>\n",
       "      <th>59</th>\n",
       "      <td>44.772759-82.317459j</td>\n",
       "      <td>44.772759+82.317459j</td>\n",
       "      <td>-97.545518+0.000000j</td>\n",
       "      <td>4.282281e+05</td>\n",
       "    </tr>\n",
       "    <tr>\n",
       "      <th>60</th>\n",
       "      <td>99.612251-177.221888j</td>\n",
       "      <td>99.612251+177.221888j</td>\n",
       "      <td>-207.224502+0.000000j</td>\n",
       "      <td>4.282281e+06</td>\n",
       "    </tr>\n",
       "  </tbody>\n",
       "</table>\n",
       "<p>61 rows × 4 columns</p>\n",
       "</div>"
      ],
      "text/plain": [
       "                   Raíz 1                 Raíz 2                Raíz 3  \\\n",
       "0   -3.0000000-5.0000000j  -3.0000000+5.0000000j -2.0000000+0.0000000j   \n",
       "1   -2.6666670-4.9665550j  -2.6666670+4.9665550j -2.6666670+0.0000000j   \n",
       "2   -2.6666670-4.9665550j  -2.6666670+4.9665550j -2.6666670+0.0000000j   \n",
       "3   -1.9304630-5.1276360j  -1.9304630+5.1276360j -4.1390750+0.0000000j   \n",
       "4   -1.3968630-5.4317470j  -1.3968630+5.4317470j -5.2062740+0.0000000j   \n",
       "..                    ...                    ...                   ...   \n",
       "56  7.283980-017.9363530j  7.283980+017.9363530j  -22.567960+0.000000j   \n",
       "57  7.355531-018.0554700j  7.355531+018.0554700j  -22.711062+0.000000j   \n",
       "58   19.278294-38.332891j   19.278294+38.332891j  -46.556587+0.000000j   \n",
       "59   44.772759-82.317459j   44.772759+82.317459j  -97.545518+0.000000j   \n",
       "60  99.612251-177.221888j  99.612251+177.221888j -207.224502+0.000000j   \n",
       "\n",
       "           Ganho  \n",
       "0   0.000000e+00  \n",
       "1   8.370370e+00  \n",
       "2   8.370370e+00  \n",
       "3   2.812615e+01  \n",
       "4   4.788193e+01  \n",
       "..           ...  \n",
       "56  4.194887e+03  \n",
       "57  4.282281e+03  \n",
       "58  4.282281e+04  \n",
       "59  4.282281e+05  \n",
       "60  4.282281e+06  \n",
       "\n",
       "[61 rows x 4 columns]"
      ]
     },
     "execution_count": 10,
     "metadata": {},
     "output_type": "execute_result"
    }
   ],
   "source": [
    "pd.DataFrame({'Raíz 1':raizes[:,0],'Raíz 2':raizes[:,1],'Raíz 3':raizes[:,2],'Ganho':ganho})"
   ]
  },
  {
   "cell_type": "code",
   "execution_count": 11,
   "id": "3fb51f08-b27c-442d-b53b-88e253801b08",
   "metadata": {},
   "outputs": [
    {
     "data": {
      "text/latex": [
       "$$\\frac{s + 6}{2 s^2 + 4 s}$$"
      ],
      "text/plain": [
       "TransferFunction(array([1, 6]), array([2, 4, 0]))"
      ]
     },
     "execution_count": 11,
     "metadata": {},
     "output_type": "execute_result"
    }
   ],
   "source": [
    "sistema2 = tf([1,6],[2,4,0])\n",
    "sistema2"
   ]
  },
  {
   "cell_type": "code",
   "execution_count": 12,
   "id": "a4b4ac73-8ee8-4d29-8d03-bc1d52d23d79",
   "metadata": {},
   "outputs": [],
   "source": [
    "plt.figure(dpi=150)\n",
    "root_locus(sistema2,xlim=(-16,0));"
   ]
  }
 ],
 "metadata": {
  "kernelspec": {
   "display_name": "Python 3 (ipykernel)",
   "language": "python",
   "name": "python3"
  },
  "language_info": {
   "codemirror_mode": {
    "name": "ipython",
    "version": 3
   },
   "file_extension": ".py",
   "mimetype": "text/x-python",
   "name": "python",
   "nbconvert_exporter": "python",
   "pygments_lexer": "ipython3",
   "version": "3.9.13"
  }
 },
 "nbformat": 4,
 "nbformat_minor": 5
}
