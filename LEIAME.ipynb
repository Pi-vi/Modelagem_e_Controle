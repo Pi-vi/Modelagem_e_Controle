{
 "cells": [
  {
   "cell_type": "markdown",
   "id": "45fc46a6",
   "metadata": {},
   "source": [
    "# Modelagem e Controle de Sistemas\n",
    "Professor Paulo Victor  \n",
    "e-mail: paulo.gomes@cefet-rj.br  \n",
    "Sala 6E"
   ]
  },
  {
   "cell_type": "markdown",
   "id": "afbdabfd",
   "metadata": {},
   "source": [
    "## Objetivos\n",
    "\n",
    "Ao final da disciplina, o aluno deverá ser capaz de modelar sistemas dinâmicos em geral, assim como compreender e analisar sistemas lineares e invariantes no tempo utilizando ferramentas matemáticas no domínio do tempo e da frequência. Também deverá compreender as principais ações de controle usadas em sistemas de controle automático."
   ]
  },
  {
   "cell_type": "markdown",
   "id": "d18c3e93",
   "metadata": {},
   "source": [
    "## Ementa\n",
    "\n",
    "[Introdução aos sistemas de controle;](Intro.ipynb)  \n",
    "[Modelagem matemática de sistemas dinâmicos;](Modelagem_Matematica.ipynb)  \n",
    "[Linearização de modelos](liearizacao.ipynb);  \n",
    "[Função de transferência e de resposta impulsiva](transf.ipynb);  \n",
    "[Modelagem no espaço de estados](EE.ipynb);  \n",
    "Análise de resposta transitória e de regime estacionário; \n",
    "Análise de resposta em frequência;  \n",
    "Diagrama de Bode;  \n",
    "Método do lugar das raízes para análise e projeto de sistemas de controle;  \n",
    "Controladores PID;  \n",
    "Regras de sintonia para controladores PID;  \n",
    "Ganho crítico;  \n",
    "Análise de sistemas dinâmicos com o auxílio de alguma linguagem de programação.  "
   ]
  },
  {
   "cell_type": "markdown",
   "id": "a9b94dc9",
   "metadata": {},
   "source": [
    "## Avaliação\n",
    "\n",
    "P1 → Prova (6 pontos) e um trabalho em duplas (4 pontos).   \n",
    "P2 →  Prova (6 pontos) e um trabalho em duplas (4 pontos).\n",
    "\n",
    "Datas:\n",
    "\n",
    "    P1 → 04/11/2022\n",
    "    P2 → 13/01/2023\n",
    "    P3 → 20/01/2023\n"
   ]
  },
  {
   "cell_type": "markdown",
   "id": "94e2bb66",
   "metadata": {},
   "source": [
    "## Bibliografia Básica\n",
    "\n",
    "OGATA, K. **Engenharia de Controle Moderno**. 5ª ed. Editora Pearson, 2010 (disponível online na biblioteca virtual → [](https://plataforma.bvirtual.com.br/Leitor/Publicacao/2376/pdf/0)https://plataforma.bvirtual.com.br/Leitor/Publicacao/2376/pdf/0)"
   ]
  },
  {
   "cell_type": "markdown",
   "id": "41a1ffee",
   "metadata": {},
   "source": [
    "## Observações\n",
    "- Matlab ou Python\n",
    "- Ficar atento(a) às faltas (máximo de 25%)\n"
   ]
  }
 ],
 "metadata": {
  "kernelspec": {
   "display_name": "Python 3 (ipykernel)",
   "language": "python",
   "name": "python3"
  },
  "language_info": {
   "codemirror_mode": {
    "name": "ipython",
    "version": 3
   },
   "file_extension": ".py",
   "mimetype": "text/x-python",
   "name": "python",
   "nbconvert_exporter": "python",
   "pygments_lexer": "ipython3",
   "version": "3.10.6"
  }
 },
 "nbformat": 4,
 "nbformat_minor": 5
}
