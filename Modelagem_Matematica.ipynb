{
 "cells": [
  {
   "cell_type": "markdown",
   "id": "fd5b8317",
   "metadata": {
    "slideshow": {
     "slide_type": "slide"
    }
   },
   "source": [
    "# Modelagem Matemática de Sistemas de Controle\n",
    "Este material serve apenas como um guia para estudos e para as aulas, não substituindo a leitura dos livros indicados e é de uso exclusivo dos alunos do CEFET/RJ campus Angra dos Reis.\n"
   ]
  },
  {
   "cell_type": "markdown",
   "id": "dfed7c79",
   "metadata": {
    "slideshow": {
     "slide_type": "slide"
    }
   },
   "source": [
    "## Introdução\n",
    "----------\n",
    "\n",
    "→ **Modelos matemáticos**\n",
    "\n",
    "![](https://paper-attachments.dropbox.com/s_B7B7589978C0AC41B3D77D7C058BA7A624F97D64CF13504D135CF82FB407646D_1663862410421_image.png)\n"
   ]
  },
  {
   "cell_type": "markdown",
   "id": "ac8a3c4c",
   "metadata": {
    "slideshow": {
     "slide_type": "subslide"
    }
   },
   "source": [
    "O modelo matemático de um determinado fenômeno abre a possibilidade para que o seu comportamento futuro possa ser previsto com certa precisão e, em consequência, o seu impacto possa ser devidamente avaliado e, até mesmo, ser alterado atrvés de ações determinadas para tal fim."
   ]
  },
  {
   "cell_type": "markdown",
   "id": "d489ed18",
   "metadata": {
    "slideshow": {
     "slide_type": "subslide"
    }
   },
   "source": [
    "A obtenção de um modelo matemático para um determinado fenômeno, normalmente, tem como base um conjunto de quatro atributos que devem ser adotados, a saber: leis básicas, simplicidade, precisão e validação. "
   ]
  },
  {
   "cell_type": "markdown",
   "id": "97842a28",
   "metadata": {
    "slideshow": {
     "slide_type": "subslide"
    }
   },
   "source": [
    "→ **Simplicidade** ***versus*** **precisão**\n"
   ]
  },
  {
   "cell_type": "markdown",
   "id": "bc80e8e7",
   "metadata": {
    "slideshow": {
     "slide_type": "subslide"
    }
   },
   "source": [
    "→ **Sistemas lineares**\n",
    "\n",
    "![](https://paper-attachments.dropbox.com/s_B7B7589978C0AC41B3D77D7C058BA7A624F97D64CF13504D135CF82FB407646D_1663607816169_image.png)"
   ]
  },
  {
   "cell_type": "markdown",
   "id": "c28970c2",
   "metadata": {
    "slideshow": {
     "slide_type": "subslide"
    }
   },
   "source": [
    "→ **Sistemas lineares invariantes no tempo e sistemas lineares variantes no tempo**"
   ]
  },
  {
   "cell_type": "markdown",
   "id": "18daee62",
   "metadata": {
    "slideshow": {
     "slide_type": "slide"
    }
   },
   "source": [
    "# Modelagem matemática de sistemas mecânicos\n",
    "\n",
    "Podem ser compostos por:\n",
    "\n",
    "- elementos de inércia\n",
    "- elementos de rigidez\n",
    "- elementos de dissipação de energia\n",
    "- transformadores mecânicos"
   ]
  },
  {
   "cell_type": "markdown",
   "id": "805cb84b",
   "metadata": {
    "slideshow": {
     "slide_type": "subslide"
    }
   },
   "source": [
    "**Elementos de Inércia**\n",
    "\n",
    "Elementos de inércia são tanto massas concentradas (sistemas mecânicos de translação) quanto os momentos de inércia (sistemas mecânicos de rotação). "
   ]
  },
  {
   "cell_type": "markdown",
   "id": "9e99f961",
   "metadata": {
    "slideshow": {
     "slide_type": "subslide"
    }
   },
   "source": [
    "**Elementos de Rigidez**\n",
    "\n",
    "Quando um elemento mecânico armazena energia por causa da deformação ou há mudança de forma, deve ser modelado com um elemento de rigidez. \n",
    "\n",
    "\n",
    "![](https://paper-attachments.dropbox.com/s_7530D704C88DDCDA5A13B3B9A3AE96B957C4F3EF9A73CCFF44804C10CEAE8511_1665088113527_image.png)\n",
    "\n",
    "\n",
    "$$F = kx$$"
   ]
  },
  {
   "cell_type": "markdown",
   "id": "ba139d80",
   "metadata": {
    "slideshow": {
     "slide_type": "subslide"
    }
   },
   "source": [
    "![](https://paper-attachments.dropbox.com/s_7530D704C88DDCDA5A13B3B9A3AE96B957C4F3EF9A73CCFF44804C10CEAE8511_1665088410764_image.png)\n",
    "\n",
    "\n",
    "$F = k(x_2 - x_1)$"
   ]
  },
  {
   "cell_type": "markdown",
   "id": "65ba2f3c",
   "metadata": {
    "slideshow": {
     "slide_type": "subslide"
    }
   },
   "source": [
    "![](https://paper-attachments.dropbox.com/s_7530D704C88DDCDA5A13B3B9A3AE96B957C4F3EF9A73CCFF44804C10CEAE8511_1665088492255_image.png)\n",
    "\n",
    "\n",
    "$T = k \\theta$\n",
    "\n",
    "ou\n",
    "\n",
    "$T = k(\\theta_2 - \\theta_1)$\n"
   ]
  },
  {
   "cell_type": "markdown",
   "id": "a47117ae",
   "metadata": {
    "slideshow": {
     "slide_type": "subslide"
    }
   },
   "source": [
    "→ Associação de molas\n",
    "\n",
    "![](https://paper-attachments.dropbox.com/s_7530D704C88DDCDA5A13B3B9A3AE96B957C4F3EF9A73CCFF44804C10CEAE8511_1665088190549_image.png)\n",
    "\n",
    "\n",
    "(a) Associação de molas em paralelo:\n",
    "\n",
    "$k_{eq} = k_1 + k_2$\n",
    "\n",
    "(b) Associação de molas em série:\n",
    "\n",
    "$k_{eq} = \\dfrac{k_1 k_2}{k_1 + k_2} = \\dfrac{1}{\\dfrac{1}{k_1} + \\dfrac{1}{k_2}}$"
   ]
  },
  {
   "cell_type": "markdown",
   "id": "f44a28f3",
   "metadata": {
    "slideshow": {
     "slide_type": "subslide"
    }
   },
   "source": [
    "**Elemento dissipativo**\n",
    "\n",
    "Quando um elemento mecânico dissipa energia em função do seu movimento, pode ser modelado como um elemento dissipativo.\n",
    "\n",
    "\n",
    "![](https://paper-attachments.dropbox.com/s_7530D704C88DDCDA5A13B3B9A3AE96B957C4F3EF9A73CCFF44804C10CEAE8511_1665088677934_image.png)\n",
    "\n",
    "![](https://paper-attachments.dropbox.com/s_7530D704C88DDCDA5A13B3B9A3AE96B957C4F3EF9A73CCFF44804C10CEAE8511_1665088775291_image.png)\n",
    "\n",
    "\n",
    "$F = b(\\dot{x}_2 - \\dot{x}_1)$\n",
    "\n",
    "ou\n",
    "\n",
    "$T = b(\\dot{\\theta}_2 - \\dot{\\theta}_1)$\n"
   ]
  },
  {
   "cell_type": "markdown",
   "id": "ec816838",
   "metadata": {
    "slideshow": {
     "slide_type": "subslide"
    }
   },
   "source": [
    "![](https://paper-attachments.dropboxusercontent.com/s_7530D704C88DDCDA5A13B3B9A3AE96B957C4F3EF9A73CCFF44804C10CEAE8511_1666291252903_image.png)\n",
    "\n",
    "\n",
    "(a) associação em paralelo:\n",
    "\n",
    "$b_{eq} = b_1 + b_2$\n",
    "\n",
    "(b) associação em série:\n",
    "\n",
    "$b_{eq} = \\dfrac{b_1 b_2}{b_1 + b_2} = \\dfrac{1}{\\dfrac{1}{b_1} + \\dfrac{1}{b_2}}$\n"
   ]
  },
  {
   "cell_type": "markdown",
   "id": "07cb68f8",
   "metadata": {
    "slideshow": {
     "slide_type": "subslide"
    }
   },
   "source": [
    "**Transformadores mecânicos**\n",
    "\n",
    "→ Alavanca\n",
    "\n",
    "\n",
    "![](https://paper-attachments.dropbox.com/s_7530D704C88DDCDA5A13B3B9A3AE96B957C4F3EF9A73CCFF44804C10CEAE8511_1665089637560_image.png)\n",
    "\n",
    "\n",
    "Considerando  uma alavanca ideal e o momento em torno da rótula como zero:\n",
    "\n",
    "$f_1L_1cos\\theta = f_2L_2cos \\theta$\n",
    "\n",
    "linearizando em torno de $\\theta = 0$:\n",
    "\n",
    "$f_1L_1 = f_2 L_2$\n",
    "\n",
    "$f_2 = \\dfrac{f_1 L_1}{L_2}$"
   ]
  },
  {
   "cell_type": "markdown",
   "id": "f82900a8",
   "metadata": {
    "slideshow": {
     "slide_type": "subslide"
    }
   },
   "source": [
    "→ Engrenagens\n",
    "\n",
    "\n",
    "![](https://paper-attachments.dropbox.com/s_7530D704C88DDCDA5A13B3B9A3AE96B957C4F3EF9A73CCFF44804C10CEAE8511_1665089877943_image.png)\n",
    "\n",
    "\n",
    "$\\dfrac{\\omega_1}{\\omega_2} = \\dfrac{r_2}{r_1} = \\dfrac{n_2}{n_1} = N$\n",
    "\n",
    "$\\dfrac{T1}{T2} = \\dfrac{\\omega_2}{\\omega_1}$\n"
   ]
  },
  {
   "cell_type": "markdown",
   "id": "9f9c1298",
   "metadata": {
    "slideshow": {
     "slide_type": "subslide"
    }
   },
   "source": [
    "Modelos matemáticos de sistemas mecânicos podem ser determinados usando o procedimento esquemático de dois passos:\n",
    "\n",
    "\n",
    "1. Desenhe um diagrama de corpo livre (DCL), para cada elemento de inércia com setas representando as forças (ou torques) externos atuando em cada massa (ou momento de inércia). Use a terceira lei de Newton para mostrar as forças (ou torques) de reação iguais e opostas nos elementos de inércia interconectados. Escreva com atenção equações para cada força (ou torque) usando a lei do elemento apropriada e as convenções positivas para as variáveis de deslocamento. \n",
    "2. Aplique a segunda lei de Newton para cada elemento de inércia para obter o modelo matemático do sistema mecânico completo. "
   ]
  },
  {
   "cell_type": "markdown",
   "id": "6d0284a5",
   "metadata": {
    "slideshow": {
     "slide_type": "subslide"
    }
   },
   "source": [
    "**Exemplo 1:**\n",
    "\n",
    "Um sistema atuador por solenoide de alta velocidade e válvula é mostrado na figura a seguir. Descreva o modelo matemático do sistema mecânico.\n",
    "\n",
    "\n",
    "![](https://paper-attachments.dropbox.com/s_7530D704C88DDCDA5A13B3B9A3AE96B957C4F3EF9A73CCFF44804C10CEAE8511_1665090436983_image.png)"
   ]
  },
  {
   "cell_type": "markdown",
   "id": "67289e7d",
   "metadata": {
    "slideshow": {
     "slide_type": "subslide"
    }
   },
   "source": [
    "**Exemplo 2:**\n",
    "\n",
    "A figura a seguir mostra um sistema turbina-gerador eólico usado para transformar energia mecânica em energia elétrica. Para esse problema, assume-se que a inércia da turbina $J_1$ e a do gerador $J_2$ são conectadas rigidamente às suas engrenagens no trem de engrenagens. Desenvolva o modelo matemático desse sistema mecânico de rotação. \n",
    "\n",
    "![](https://paper-attachments.dropbox.com/s_7530D704C88DDCDA5A13B3B9A3AE96B957C4F3EF9A73CCFF44804C10CEAE8511_1665090815252_image.png)"
   ]
  },
  {
   "cell_type": "markdown",
   "id": "e0cba6f2",
   "metadata": {
    "slideshow": {
     "slide_type": "subslide"
    }
   },
   "source": [
    "\n",
    "**Exemplo 3**\n",
    "\n",
    "A figura a seguir mostra um esquema do sistema de comando de válvulas de automóveis. O came girante move a haste (seguidor), e o balacim gira para mover a válvula na direção vertical. Um modelo mecânico simplificado é mostrado na ao lado do esquema do comando de válvulas. O momento de inércia $J$ representa a inércia do balacim em torno do pino de articulação. A deformação da haste é modelada pela mola $k_1$, e a mola de retorno na válvula é $k_2$. O atrito do pino do balacim é modelado pelo coeficiente de atrito viscoso $b$. O movimento vertical do seguidor imposto pelo came é $x_c(t)$, a entrada do sistema. A posição angular do balancim é $\\theta$, positiva no sentido horário. Quando o ângulo do balancim está nivelado ($\\theta = 0$), a mola de retorno possui uma força de pré-carga compressiva $F_{PC}$. Quando a posição do seguidor é $x_c = 0$ e $\\theta = 0$, então a haste ($k_1)$ não está deformada. Assuma que o ângulo do balancim $\\theta$ permanece pequeno durante todo o tempo. Desenvolva o modelo matemático do sistema de comando de válvulas e determine o deslocamento necessário do seguidor $x_c$ quando o sistema estiver em repouso (equilíbrio) com o nível do balancim ($\\theta = 0$). Obtenha a função de transferência para este modelo e a representação no espaço de estados.\n",
    "\n",
    "![](https://paper-attachments.dropboxusercontent.com/s_7530D704C88DDCDA5A13B3B9A3AE96B957C4F3EF9A73CCFF44804C10CEAE8511_1665765223975_image.png)"
   ]
  },
  {
   "cell_type": "markdown",
   "id": "7a79c949",
   "metadata": {
    "slideshow": {
     "slide_type": "subslide"
    }
   },
   "source": [
    "**Exemplo 4**\n",
    "A figura a seguir mostra o modelo de 1/4 de carro que é empregado para analisar a qualidade dos sistemas de suspensão de automóveis no seu movimento vertical. A massa $m_1$ é a “massa suspensa”, que corresponde a um quarto da massa total do veículo que é suportada pelo sistema de suspensão. A massa $m_2$ é a “massa não suspensa”, que é uma massa concentrada composta por um conjunto de roda e componentes de meio-eixo, mais o amortecedor e mola de suspensão. A rigidez e o amortecimento de suspensão são modelados como a constante de mola $k_1$ e o coeficiente de atrito $b_1$ ideais, respectivamente. A rigidez do pneu é modelada pela constante de mola $k_2$. Os deslocamentos verticais $z_1$ e $z_2$ das massas $m_1$ e $m_2$ são medidos a partir das posições de equilíbrio estático. A entrada é o deslocamento vertical imposto pela via, $z_{ent}(t)$, que é medido em relação a determinado nível. Desenvolva o modelo matemático do sistema 1/4 de carro-suspensão. Obtenha a função de transferência para este modelo e a representação no espaço de estados.\n",
    "\n",
    "![](https://paper-attachments.dropboxusercontent.com/s_7530D704C88DDCDA5A13B3B9A3AE96B957C4F3EF9A73CCFF44804C10CEAE8511_1665769835786_image.png)\n"
   ]
  },
  {
   "cell_type": "markdown",
   "id": "46b905ea",
   "metadata": {
    "slideshow": {
     "slide_type": "subslide"
    }
   },
   "source": [
    "**Exemplo 5**\n",
    "\n",
    "Um sistema mecânico de 2 GDLs com um amortecedor e uma mola em série é mostrado na figura a seguir. O movimento independente da massa $m$ é $z_1$, e $z_2$ é o deslocamento independente do ponto de contato entre o amortecedor $b$ e a mola $k$. A mola não está deformada quando $z_1 = z_2 = 0$. Uma força externa $f_a(t)$ atua sobre a massa $m$. Desenvolva o modelo matemático do sistema mecânico e obtenha a representação no espaço de estados para este modelo.\n",
    "\n",
    "![](https://paper-attachments.dropboxusercontent.com/s_7530D704C88DDCDA5A13B3B9A3AE96B957C4F3EF9A73CCFF44804C10CEAE8511_1666724729023_image.png)"
   ]
  },
  {
   "cell_type": "markdown",
   "id": "e747db00",
   "metadata": {
    "slideshow": {
     "slide_type": "slide"
    }
   },
   "source": [
    "# Modelagem de Sistemas Elétricos e Eletromecânicos\n",
    "\n",
    "Circuitos elétricos e dispositivos eletromecânicos são amplamente utilizados por engenheiros mecânicos em instrumentação e na conversão entre energia elétrica e mecânica.\n"
   ]
  },
  {
   "cell_type": "markdown",
   "id": "d1a483bf",
   "metadata": {
    "slideshow": {
     "slide_type": "subslide"
    }
   },
   "source": [
    "Os modelos matemáticos para sistemas elétricos são desenvolvidos pela aplicação das leis da tensão e da corrente de Kirchhoff nos circuitos elétricos, assim como pelas leis dos elementos que representam a interação entre a carga elétrica , corrente, fluxo magnético e tensão. "
   ]
  },
  {
   "cell_type": "markdown",
   "id": "b25927fe",
   "metadata": {
    "slideshow": {
     "slide_type": "subslide"
    }
   },
   "source": [
    "Sistemas eletromecânicos envolvem a interação entre energia elétrica e mecânica como ocorre nos motores, geradores e atuadores, que necessitam de análise conjunta dos circuitos elétricos e dos diagramas de corpo livre para os componentes mecânicos. "
   ]
  },
  {
   "cell_type": "markdown",
   "id": "259000ff",
   "metadata": {
    "slideshow": {
     "slide_type": "subslide"
    }
   },
   "source": [
    "## Lei de Elementos Elétricos\n",
    "\n",
    "\n",
    "- Elementos passivos\n",
    "    - resistores\n",
    "    - indutores\n",
    "    - capacitores\n",
    "- Elementos ativos\n",
    "    - fontes de tensão \n",
    "    - fontes de corrente\n"
   ]
  },
  {
   "cell_type": "markdown",
   "id": "307f28c9",
   "metadata": {
    "slideshow": {
     "slide_type": "subslide"
    }
   },
   "source": [
    "Analogia eletro-mecânica:\n",
    "\n",
    "| Sistema Mecânico             | Circuito Elétrico       |\n",
    "| ---------------------------- | ----------------------- |\n",
    "| coeficiente de amortecimento | resistência elétrica    |\n",
    "| massa                        | indutância              |\n",
    "| rigidez da mola              | inverso da capacitância |\n"
   ]
  },
  {
   "cell_type": "markdown",
   "id": "f36e0f3c",
   "metadata": {
    "slideshow": {
     "slide_type": "subslide"
    }
   },
   "source": [
    "Conceitos Básicos:\n",
    "\n",
    "\n",
    "- A corrente $I$ é a taxa de fluxo de carga elétrica (em coulombs, C) → $I = \\dot{q}$\n",
    "- A corrente tem unidade C/s ou ampere (A)\n",
    "- A tensão $e$ (em volts, V), é a diferença de energia potencial elétrica entre dois pontos ou as extremidades de um elemento com dois terminais.\n",
    "- Algumas vezes será considerada que parte do circuito é conectada à “terra” na qual a tensão é zero."
   ]
  },
  {
   "cell_type": "markdown",
   "id": "46505f07",
   "metadata": {
    "slideshow": {
     "slide_type": "subslide"
    }
   },
   "source": [
    "![](https://paper-attachments.dropboxusercontent.com/s_7530D704C88DDCDA5A13B3B9A3AE96B957C4F3EF9A73CCFF44804C10CEAE8511_1667576321628_image.png)\n"
   ]
  },
  {
   "cell_type": "markdown",
   "id": "bc3dced3",
   "metadata": {
    "slideshow": {
     "slide_type": "subslide"
    }
   },
   "source": [
    "![](https://paper-attachments.dropboxusercontent.com/s_7530D704C88DDCDA5A13B3B9A3AE96B957C4F3EF9A73CCFF44804C10CEAE8511_1667576392373_image.png)"
   ]
  },
  {
   "cell_type": "markdown",
   "id": "6eec4e42",
   "metadata": {
    "slideshow": {
     "slide_type": "subslide"
    }
   },
   "source": [
    "![](https://paper-attachments.dropboxusercontent.com/s_7530D704C88DDCDA5A13B3B9A3AE96B957C4F3EF9A73CCFF44804C10CEAE8511_1667576430397_image.png)\n"
   ]
  },
  {
   "cell_type": "markdown",
   "id": "45e016e7",
   "metadata": {
    "slideshow": {
     "slide_type": "subslide"
    }
   },
   "source": [
    "**Resistor**\n",
    "\n",
    "\n",
    "- Resistores são elementos elétricos que impedem (resistem) ao fluxo de corrente.\n",
    "- Os resistores dissipam a energia elétrica pela conversão em calor, e consequentemente, são análogos aos elementos dissipadores em sistemas mecânicos. \n",
    "\n",
    "\n",
    "![](https://paper-attachments.dropboxusercontent.com/s_7530D704C88DDCDA5A13B3B9A3AE96B957C4F3EF9A73CCFF44804C10CEAE8511_1667575134587_image.png)\n"
   ]
  },
  {
   "cell_type": "markdown",
   "id": "c16c797a",
   "metadata": {
    "slideshow": {
     "slide_type": "subslide"
    }
   },
   "source": [
    "A lei de Ohm define a queda de tensão $e_R$ através de um resistor ideal como:\n",
    "$e_R = RI$\n",
    "\n",
    "A resistência é medida em V/A ou ohms ($\\Omega$).\n",
    "\n",
    "A potência dissipada por um resistor é:\n",
    "$\\xi = - e_R I = - RI^2$"
   ]
  },
  {
   "cell_type": "markdown",
   "id": "ba64ad84",
   "metadata": {
    "slideshow": {
     "slide_type": "subslide"
    }
   },
   "source": [
    "**Capacitores**\n",
    "\n",
    "\n",
    "- Dois condutores separados por um meio não condutor formam um capacitor.\n",
    "- Capacitores armazenam energia no campo elétrico resultante do potencial de tensão entre dois condutores \n",
    "\n",
    "\n",
    "\n",
    "![](https://paper-attachments.dropboxusercontent.com/s_7530D704C88DDCDA5A13B3B9A3AE96B957C4F3EF9A73CCFF44804C10CEAE8511_1667574978337_image.png)"
   ]
  },
  {
   "cell_type": "markdown",
   "id": "50036a87",
   "metadata": {
    "slideshow": {
     "slide_type": "subslide"
    }
   },
   "source": [
    "Os capacitores ideais (lineares) obedecem a relação carga-tensão:\n",
    "$q = C e_C$\n",
    "\n",
    "A capacitância é medida em C/V ou farads (F).\n",
    "\n",
    "Pode-se relacionar a capacitância com a corrente:\n",
    "\n",
    "$\\dot{q} = I = C \\dot{e}_C$\n"
   ]
  },
  {
   "cell_type": "markdown",
   "id": "dce25853",
   "metadata": {
    "slideshow": {
     "slide_type": "subslide"
    }
   },
   "source": [
    "A queda de tensão através do capacitor pode ser expressa por:\n",
    "$e_C(t) = e_C(0) + \\dfrac{1}{C} \\int_{0}^{t} I (\\tau) d \\tau$\n",
    "\n",
    "Os capacitores podem armazenar energia em decorrência da sua tensão\n",
    "\n",
    "$\\xi_C = \\dfrac{1}{2}C e^2_C$\n",
    "\n",
    "A potência é obtida por:\n",
    "$\\dot{\\xi}_C = C e_C \\dot{e}_C$"
   ]
  },
  {
   "cell_type": "markdown",
   "id": "23b40ce6",
   "metadata": {
    "slideshow": {
     "slide_type": "subslide"
    }
   },
   "source": [
    "**Indutor**\n",
    "\n",
    "\n",
    "- Uma simples bobina de fio enrolado forma um indutor.\n",
    "- Indutores armazenam energia no campo magnético resultante da corrente fluindo através do enrolamento de fio.\n",
    "![](https://paper-attachments.dropboxusercontent.com/s_7530D704C88DDCDA5A13B3B9A3AE96B957C4F3EF9A73CCFF44804C10CEAE8511_1667579643409_image.png)\n"
   ]
  },
  {
   "cell_type": "markdown",
   "id": "e808fbd7",
   "metadata": {
    "slideshow": {
     "slide_type": "subslide"
    }
   },
   "source": [
    "Indutores ideais exibem uma relação linear entre a corrente e o enlace de fluxo magnético $\\lambda$\n",
    "$\\lambda = L I_L$\n",
    "\n",
    "$L$ é a indutância em webers/ampere(Wb/A). O enlace de fluxo magnético $\\lambda$ possui unidades de webers (Wb), e é o produto da densidade de fluxo magnético (Wb/m²), área do enrolamento (m²) e do número de voltas (ou espiras) na bobina de fio. A indutância $L$ depende das propriedades geométricas e do material, tais como o número de espiras (voltas) e da área do enrolamento. Se a bobina está em torno de um núcleo ferromagnético, a indutância se torna uma função não linear. "
   ]
  },
  {
   "cell_type": "markdown",
   "id": "9e20c731",
   "metadata": {
    "slideshow": {
     "slide_type": "subslide"
    }
   },
   "source": [
    "A derivada no tempo do enlace de fluxo é igual à tensão através do indutor\n",
    "$\\dot{\\lambda} = e_L$\n",
    "\n",
    "Para um indutor fixo com indutância constante $L$:\n",
    "$e_L = L \\dot{I}_L$\n",
    "\n",
    "Os indutores podem armazenar energia no seu campo magnético por causa da corrente\n",
    "$\\xi_L = \\dfrac{1}{2} LI^2$\n",
    "\n",
    "A potência será:\n",
    "$\\dot{\\xi}_L = LI_L \\dot{I}_L$"
   ]
  },
  {
   "cell_type": "markdown",
   "id": "23722571",
   "metadata": {
    "slideshow": {
     "slide_type": "subslide"
    }
   },
   "source": [
    "**Fontes**\n",
    "\n",
    "\n",
    "- fontes de tensão\n",
    "- fontes de corrente\n",
    "\n",
    "Essas fontes serão tratadas como as entradas conhecidas para o sistema elétrico, assim como foram consideradas as entradas e deslocamento para os sistemas mecânicos.\n"
   ]
  },
  {
   "cell_type": "markdown",
   "id": "d12edbd2",
   "metadata": {
    "slideshow": {
     "slide_type": "subslide"
    }
   },
   "source": [
    "![](https://paper-attachments.dropboxusercontent.com/s_7530D704C88DDCDA5A13B3B9A3AE96B957C4F3EF9A73CCFF44804C10CEAE8511_1667580839852_image.png)\n"
   ]
  },
  {
   "cell_type": "markdown",
   "id": "e0ddeeb1",
   "metadata": {
    "slideshow": {
     "slide_type": "subslide"
    }
   },
   "source": [
    "![](https://paper-attachments.dropboxusercontent.com/s_7530D704C88DDCDA5A13B3B9A3AE96B957C4F3EF9A73CCFF44804C10CEAE8511_1667580886306_image.png)\n"
   ]
  },
  {
   "cell_type": "markdown",
   "id": "6e2f958d",
   "metadata": {
    "slideshow": {
     "slide_type": "slide"
    }
   },
   "source": [
    "## Sistemas Elétricos\n",
    "\n",
    "Assim sendo, os modelo matemáticos de sistemas elétricos podem ser escritos em termos das “variáveis dinâmicas” importantes ($e_C$ e $I_L$) das EDOs de primeira ordem que representam os elementos armazenadores de energia. \n",
    "\n",
    "As tensões e correntes em um circuito elétrico que não são $e_C$ ou $I_L$ (isto é, a queda de  tensão de um resistor) podem ser escritas em termos  das variáveis dinâmicas importantes empregando as leis de Kirchhoff. \n"
   ]
  },
  {
   "cell_type": "markdown",
   "id": "f28d4b91",
   "metadata": {
    "slideshow": {
     "slide_type": "subslide"
    }
   },
   "source": [
    "\n",
    "**Leis de Kirchhoff das Tensões**\n",
    "\n",
    "A leis de Kirchhoff das tensões (ou “malhas”) estabelece que a soma algébrica de todas as tensões através dos elementos em qualquer caminho fechado (ou malha) é igual a zero. \n"
   ]
  },
  {
   "cell_type": "markdown",
   "id": "9fc8a3b0",
   "metadata": {
    "slideshow": {
     "slide_type": "subslide"
    }
   },
   "source": [
    "![](https://paper-attachments.dropboxusercontent.com/s_7530D704C88DDCDA5A13B3B9A3AE96B957C4F3EF9A73CCFF44804C10CEAE8511_1667581421103_image.png)\n",
    "\n",
    "\n",
    "Sentido horário:\n",
    "\n",
    "$-e_1 - e_2 - e_3 + e_{ent}(t) = 0$\n",
    "\n",
    "Sentido anti-horário:\n",
    "\n",
    "$-e_{ent}(t) + e_3 + e_2 + e_1 = 0$"
   ]
  },
  {
   "cell_type": "markdown",
   "id": "691acc8b",
   "metadata": {
    "slideshow": {
     "slide_type": "subslide"
    }
   },
   "source": [
    "**Lei de Kirchhoff das Correntes**\n",
    "\n",
    "A lei de Kirchhoff das correntes (ou “ou dos nós”) estabelece que a soma algébrica de todas as correntes entrando e saindo de um nó é igual a zero.\n",
    "\n",
    "\n",
    "![](https://paper-attachments.dropboxusercontent.com/s_7530D704C88DDCDA5A13B3B9A3AE96B957C4F3EF9A73CCFF44804C10CEAE8511_1667581628345_image.png)\n",
    "\n",
    "\n",
    "$I_1 - I_2 - I_3 + I_4 = 0$"
   ]
  },
  {
   "cell_type": "markdown",
   "id": "32064e27",
   "metadata": {
    "slideshow": {
     "slide_type": "subslide"
    }
   },
   "source": [
    "**Modelos Matemáticos de Sistemas Elétricos**\n",
    "\n",
    "Modelos matemáticos de sistemas elétricos podem ser determinados usando o procedimento esquemático de dois passos:\n",
    "\n",
    "\n",
    "1. Escreva as correspondentes EDOs de primeira ordem para cada elemento armazenador de energia (capacitor ou indutor). As variáveis dinâmicas da EDO serão a tensão $e_C$ (para um capacitor) ou a corrente $I_L$ (para um indutor).\n",
    "2. Use as leis de Kirchhoff para expressar as tensões e correntes desconhecidas em termos das variáveis dinâmicas associadas com os elementos armazenadores de energia ($e_C$ ou $I_L$) ou com as fontes."
   ]
  },
  {
   "cell_type": "markdown",
   "id": "90fbb9fa",
   "metadata": {
    "slideshow": {
     "slide_type": "subslide"
    }
   },
   "source": [
    "**Exemplo 6**\n",
    "\n",
    "\n",
    "![](https://paper-attachments.dropboxusercontent.com/s_7530D704C88DDCDA5A13B3B9A3AE96B957C4F3EF9A73CCFF44804C10CEAE8511_1667581959841_image.png)\n"
   ]
  },
  {
   "cell_type": "markdown",
   "id": "ce3a2709",
   "metadata": {
    "slideshow": {
     "slide_type": "subslide"
    }
   },
   "source": [
    "**Exemplo 7**\n",
    "\n",
    "\n",
    "![](https://paper-attachments.dropboxusercontent.com/s_7530D704C88DDCDA5A13B3B9A3AE96B957C4F3EF9A73CCFF44804C10CEAE8511_1667582838511_image.png)"
   ]
  },
  {
   "cell_type": "markdown",
   "id": "c25a78dd",
   "metadata": {
    "slideshow": {
     "slide_type": "subslide"
    }
   },
   "source": [
    "**Exemplo 8**\n",
    "\n",
    "![](https://paper-attachments.dropboxusercontent.com/s_7530D704C88DDCDA5A13B3B9A3AE96B957C4F3EF9A73CCFF44804C10CEAE8511_1667934652097_image.png)"
   ]
  },
  {
   "cell_type": "markdown",
   "id": "d76da05d",
   "metadata": {
    "slideshow": {
     "slide_type": "slide"
    }
   },
   "source": [
    "## Circuitos com Amplificadores Operacionais\n",
    "\n",
    "Os amplificadores operacionais (“op-amp”) são empregados para amplificar (“ganho”) um sinal de tensão. \n",
    "\n",
    "Os terminais de entrada com sinais negativo e positivo são conhecidos como os terminais *inversor*  e *não inversor, respectivamente."
   ]
  },
  {
   "cell_type": "markdown",
   "id": "1232099e",
   "metadata": {
    "slideshow": {
     "slide_type": "subslide"
    }
   },
   "source": [
    "![](https://paper-attachments.dropboxusercontent.com/s_7530D704C88DDCDA5A13B3B9A3AE96B957C4F3EF9A73CCFF44804C10CEAE8511_1667937360937_image.png)\n",
    "\n",
    "\n",
    "\n",
    "$e_{sai} = K(e_B - e_A)$\n",
    "\n",
    "no qual $K$ é o “ganho de tensão” do op-amp, que normalmente é muito elevado e da ordem de 10⁵ V/V. \n"
   ]
  },
  {
   "cell_type": "markdown",
   "id": "377a8d0e",
   "metadata": {
    "slideshow": {
     "slide_type": "subslide"
    }
   },
   "source": [
    "A análise dos circuitos com op-amp é enormemente simplificada utilizando o que é conhecido como um op-amp ideal, que possui as seguintes características:\n",
    "\n",
    "1. Nos terminais de entrada do op-amp flui corrente desprezível.\n",
    "2. A diferença de tensão nos terminais de entrada $e_B - e_A$ é nula.\n",
    "3. O ganho $K$ é infinito. \n"
   ]
  },
  {
   "cell_type": "markdown",
   "id": "7c7ba57c",
   "metadata": {
    "slideshow": {
     "slide_type": "subslide"
    }
   },
   "source": [
    "**Exemplo 9**\n",
    "Obtenha a função de transferência do sistema abaixo usando as tensões de entrada e saída. \n",
    "\n",
    "\n",
    "![](https://paper-attachments.dropboxusercontent.com/s_7530D704C88DDCDA5A13B3B9A3AE96B957C4F3EF9A73CCFF44804C10CEAE8511_1667939487652_image.png)"
   ]
  },
  {
   "cell_type": "markdown",
   "id": "10e73b81",
   "metadata": {
    "slideshow": {
     "slide_type": "subslide"
    }
   },
   "source": [
    "**Exemplo 10**\n",
    "\n",
    "\n",
    "![](https://paper-attachments.dropboxusercontent.com/s_7530D704C88DDCDA5A13B3B9A3AE96B957C4F3EF9A73CCFF44804C10CEAE8511_1668714536541_image.png)"
   ]
  },
  {
   "cell_type": "markdown",
   "id": "d5ee9f78",
   "metadata": {
    "slideshow": {
     "slide_type": "slide"
    }
   },
   "source": [
    "# Sistemas Eletromecânicos\n",
    "\n",
    "Engenheiros mecânicos e aeroespaciais usam sistemas eletromecânicos para converter energia elétrica em mecânica, como deslocamento e/ou velocidade de um elemento mecânico."
   ]
  },
  {
   "cell_type": "markdown",
   "id": "4cac83ee",
   "metadata": {
    "slideshow": {
     "slide_type": "subslide"
    }
   },
   "source": [
    "## Interação Campo Magnético-Corrente\n",
    "\n",
    "Pode-se empregar três relações básicas entre a corrente elétrica e o magnetismo:\n",
    "\n",
    "1. Uma corrente estabelece um campo magnético\n",
    "2. Um fio condutor com corrente em uma campo magnético possui uma força exercida sobre ele.\n",
    "3. Um fio se movendo relativamente a um campo magnético terá uma tensão induzida entre suas extremidades."
   ]
  },
  {
   "cell_type": "markdown",
   "id": "f207b744",
   "metadata": {
    "slideshow": {
     "slide_type": "subslide"
    }
   },
   "source": [
    "![](https://paper-attachments.dropboxusercontent.com/s_7530D704C88DDCDA5A13B3B9A3AE96B957C4F3EF9A73CCFF44804C10CEAE8511_1668714784047_image.png)\n"
   ]
  },
  {
   "cell_type": "markdown",
   "id": "1b8b5fea",
   "metadata": {
    "slideshow": {
     "slide_type": "subslide"
    }
   },
   "source": [
    "![](https://paper-attachments.dropboxusercontent.com/s_7530D704C88DDCDA5A13B3B9A3AE96B957C4F3EF9A73CCFF44804C10CEAE8511_1668714821738_image.png)"
   ]
  },
  {
   "cell_type": "markdown",
   "id": "1af09df8",
   "metadata": {
    "slideshow": {
     "slide_type": "subslide"
    }
   },
   "source": [
    "A força induzida sobre o fio estacionário é representada pelo produto vetorial:\n",
    "$\\mathbf{F} = I\\mathbf{l} \\times \\mathbf{B}$\n",
    "\n",
    "na qual $l$ é um vetor na direção ao longo do fio (com sentido do fluxo de corrente) e com módulo igual ao comprimento do fio no campo."
   ]
  },
  {
   "cell_type": "markdown",
   "id": "0701a730",
   "metadata": {
    "slideshow": {
     "slide_type": "subslide"
    }
   },
   "source": [
    "Em fio que está se movendo em relação ao campo magnético $\\mathbf{B}$, a tensão induzida no fio móvel é:\n",
    "$e_c = (\\mathbf{v} \\times \\mathbf{B}) . l$\n",
    "\n",
    "na qual $\\mathbf{v}$ é a velocidade do fio. \n",
    "\n",
    "A tensão induzida $e_C$ é tradicionalmente denominada força contraeletromotriz, ou contrafem.\n",
    "\n",
    "Obs.: força eletromotriz (fem) é um sinônimo para tensão elétrica."
   ]
  },
  {
   "cell_type": "markdown",
   "id": "08fa9916",
   "metadata": {
    "slideshow": {
     "slide_type": "subslide"
    }
   },
   "source": [
    "**Motor CC**\n",
    "\n",
    "Um motor CC é um sistema eletromecânico que converte energia elétrica (fonte de tensão) para energia mecânica (movimento de rotação). \n",
    "\n",
    "\n",
    "![](https://paper-attachments.dropboxusercontent.com/s_7530D704C88DDCDA5A13B3B9A3AE96B957C4F3EF9A73CCFF44804C10CEAE8511_1668715865106_image.png)\n"
   ]
  },
  {
   "cell_type": "markdown",
   "id": "2de143a7",
   "metadata": {
    "slideshow": {
     "slide_type": "subslide"
    }
   },
   "source": [
    "![](https://paper-attachments.dropboxusercontent.com/s_7530D704C88DDCDA5A13B3B9A3AE96B957C4F3EF9A73CCFF44804C10CEAE8511_1668715972403_image.png)"
   ]
  },
  {
   "cell_type": "markdown",
   "id": "6ad0caab",
   "metadata": {
    "slideshow": {
     "slide_type": "subslide"
    }
   },
   "source": [
    "O torque eletromagnético total sobre o rotor ($T_m$) é o produto da soma das forças induzidas (em cada fio) e o braço de alavanca (isto é, o raio do rotor). \n",
    "\n",
    "$T_m = Fr = BlIr$\n",
    "\n",
    "na qual o $r$ é o raio do rotor e $l$ é o comprimento total dos enrolamentos da armadura imerso no campo magnético radial. \n",
    "\n",
    "Se a densidade do fluxo magnético $B$ é constante, os três termos $Blr$ podem ser concentrados em uma única constante, $K_m = Blr$. Logo:\n",
    "\n",
    "$T_m = K_m I$\n",
    "\n",
    "Onde $K_m$ é denominada constante de torque do motor e possui unidades N.m/A"
   ]
  },
  {
   "cell_type": "markdown",
   "id": "f50cdcc8",
   "metadata": {
    "slideshow": {
     "slide_type": "subslide"
    }
   },
   "source": [
    "Os enrolamentos da armadura se moverão relativamente ao campo magnético radial e esse movimento resultará em uma tensão induzida (contrafem) que se opõe à corrente na armadura. Como os vetores velocidade dos enrolamentos permanecem tangentes ao rotor, os vetores velocidade individuais são sempre perpendiculares ao campo magnético radial. Desse modo, a tensão induzida total é:\n",
    "\n",
    "$e_c = Blv = Blr \\dot{\\theta}$\n",
    "\n",
    "Se o campo magnético é constante, pode-se definir uma nova constante $K_c = Blr$\n",
    "\n",
    "$e_c = K_c \\dot{\\theta}$"
   ]
  },
  {
   "cell_type": "markdown",
   "id": "341672b3",
   "metadata": {
    "slideshow": {
     "slide_type": "subslide"
    }
   },
   "source": [
    "A constante $K_c$ é tipicamente denominada constante de contrafem e possui unidades V.s/rad.\n",
    "\n",
    "Os fabricantes de motores CC normalmente fornecem a constante de contrafem nos catálogos. "
   ]
  },
  {
   "cell_type": "markdown",
   "id": "5908b168",
   "metadata": {
    "slideshow": {
     "slide_type": "subslide"
    }
   },
   "source": [
    "![](https://paper-attachments.dropboxusercontent.com/s_7530D704C88DDCDA5A13B3B9A3AE96B957C4F3EF9A73CCFF44804C10CEAE8511_1668716750068_image.png)"
   ]
  },
  {
   "cell_type": "markdown",
   "id": "f9984a56",
   "metadata": {
    "slideshow": {
     "slide_type": "subslide"
    }
   },
   "source": [
    "Pode-se desenvolver o modelo matemático completo do motor CC pela aplicação das leis de Kirchhoff ao circuito da armadura e das leis de Newton ao rotor mecânico. \n",
    "\n",
    "$-e_r -e_L - e_c = e_{ent}(t) = 0$\n",
    "\n",
    "$L_a\\dot{I}_a + R_a I_a + K_c \\dot{\\theta} = e_{ent}(t)$\n",
    "\n",
    "Somando os torques sobre o rotor (com a convenção positiva do sentido horário) e aplicando a segunda lei de Newton obtém-se:\n",
    "\n",
    "$T = K_m I_a - T_C - b \\dot{\\theta} = J \\ddot{\\theta}$"
   ]
  },
  {
   "cell_type": "markdown",
   "id": "f3157cbd",
   "metadata": {
    "slideshow": {
     "slide_type": "subslide"
    }
   },
   "source": [
    "Usando $\\dot{\\theta} = \\omega$:\n",
    "\n",
    "$L_a \\dot{I}_a + R_a I_a = e_{ent}(t) - K_c \\omega$\n",
    "\n",
    "$J \\dot{\\omega} + b \\omega = K_m I_a - T_C$"
   ]
  },
  {
   "cell_type": "markdown",
   "id": "ef98c806",
   "metadata": {
    "slideshow": {
     "slide_type": "subslide"
    }
   },
   "source": [
    "**Atuador Solenoide**\n",
    "\n",
    "Um atuador solenoide é um dispositivo eletromecânico que converte energia elétrica (fonte de tensão) em energia mecânica (movimento de translação).\n",
    "\n",
    "Um atuador solenoide consiste em uma bobina de fio com um núcleo de ferro (a armadura ou pistão) que se move para dentro e para fora do centro da bobina."
   ]
  },
  {
   "cell_type": "markdown",
   "id": "b2c29913",
   "metadata": {
    "slideshow": {
     "slide_type": "subslide"
    }
   },
   "source": [
    "![](https://paper-attachments.dropboxusercontent.com/s_7530D704C88DDCDA5A13B3B9A3AE96B957C4F3EF9A73CCFF44804C10CEAE8511_1668717816956_image.png)\n"
   ]
  },
  {
   "cell_type": "markdown",
   "id": "b5b98ce6",
   "metadata": {
    "slideshow": {
     "slide_type": "subslide"
    }
   },
   "source": [
    "A indutância da bobina do atuador solenoide é uma função não linear da posição da armadura. A indutância (e consequentemente, o fluxo magnético) diminui conforme a armadura se afasta da bobina e aumenta quando a armadura se aproxima do centro da bobina. \n",
    "\n",
    "Um método aceitável para modelar a indutância da bobina é empregar a expressão não linear:\n",
    "$L(x) = \\dfrac{c}{d-x} = \\dfrac{L_0}{1-x/d}$\n",
    "\n",
    "As constantes $c$ e $d$ dependem do material da bobina do solenoide. A indutância quando $x=0$ é:\n",
    "$L_0 = \\dfrac{\\mu A N^2}{l}$\n",
    "Onde $N$é o número de voltas da bobina, $A$ é a área do entreferro, $I$ é o comprimento da bobina, e $\\mu$ é a permeabilidade magnética do ar e do núcleo de ferro. A indutância mínima $L_0$ da bobina é uma constante conhecida dados os valores de $A$, $N$, $I$ e $\\mu$."
   ]
  },
  {
   "cell_type": "markdown",
   "id": "382e0344",
   "metadata": {
    "slideshow": {
     "slide_type": "subslide"
    }
   },
   "source": [
    "Assim como no motor CC, o modelo matemático completo do atuador solenoide será desenvolvido pela aplicações das leis de Kirchhoff no circuito da armadura e as leis de Newton ao elemento de massa única. \n",
    "\n",
    "\n",
    "![](https://paper-attachments.dropboxusercontent.com/s_7530D704C88DDCDA5A13B3B9A3AE96B957C4F3EF9A73CCFF44804C10CEAE8511_1668770698603_image.png)\n",
    "|"
   ]
  },
  {
   "cell_type": "markdown",
   "id": "54d4225d",
   "metadata": {
    "slideshow": {
     "slide_type": "subslide"
    }
   },
   "source": [
    "Aplica-se a lei de Kirchhoff das tensões em torno da malha.\n",
    "\n",
    "$-e_R - e_L + e_{ent}(t) = 0$"
   ]
  },
  {
   "cell_type": "markdown",
   "id": "5a62e4c9",
   "metadata": {
    "slideshow": {
     "slide_type": "subslide"
    }
   },
   "source": [
    "Determinar a tensão $e_L$ no indutor do solenoide é mais complicado do que a tensão no indutor para o motor CC porque a indutância do solenoide varia com a posição do pistão.\n",
    "\n",
    "$\\dot{\\lambda} = e_L$\n",
    "\n",
    "Na qual o enlace de fluxo é definido como o produto da indutância e da corrente, ou $\\lambda = L(x) I$\n",
    "\n",
    "$\\dot{\\lambda} = \\dfrac{dL}{dt}I + L \\dfrac{dI}{dt}$\n",
    "\n",
    "Usando a regra da cadeia para expandir $dL/dt$:\n",
    "\n",
    "$\\dot{\\lambda} = \\dfrac{dL}{dx} \\dfrac{dx}{dt}I + L \\dfrac{dI}{dt}$\n",
    "\n",
    "Usando a forma compacta:\n",
    "\n",
    "$\\dot{\\lambda} = L_x \\dot{x} I + L(x) \\dot{I}$\n",
    "\n",
    "onde:\n",
    "\n",
    "$L_x = \\dfrac{dL}{dx} = \\dfrac{L_0}{d(1-x/d)^2}$"
   ]
  },
  {
   "cell_type": "markdown",
   "id": "5490a611",
   "metadata": {
    "slideshow": {
     "slide_type": "subslide"
    }
   },
   "source": [
    "Voltando para a equação de Kirchhoff da malha:\n",
    "\n",
    "$L(x)\\dot{I} + RI = e){ent}(t) - L_x \\dot{x} I$\n",
    "\n",
    "Note que quando a massa do atuador se move com velocidade positiva se afastando do centro da bobina, induz uma tensão negativa que diminui a tensão líquida do circuito. Além disso, a tensão induzida $L_x \\dot{x} I$ no solenoide é não linear.\n"
   ]
  },
  {
   "cell_type": "markdown",
   "id": "792882b7",
   "metadata": {
    "slideshow": {
     "slide_type": "subslide"
    }
   },
   "source": [
    "![](https://paper-attachments.dropboxusercontent.com/s_7530D704C88DDCDA5A13B3B9A3AE96B957C4F3EF9A73CCFF44804C10CEAE8511_1668771474157_image.png)\n"
   ]
  },
  {
   "cell_type": "markdown",
   "id": "6c503fe9",
   "metadata": {
    "slideshow": {
     "slide_type": "subslide"
    }
   },
   "source": [
    "**Equação de movimento** \n",
    "\n",
    "$F_{em} - kx - b \\dot{x} = m \\ddot{x}$\n",
    "\n",
    "Reorganizando:\n",
    "\n",
    "$m \\ddot{x} + b \\dot{x} + k x = F_{em}$"
   ]
  },
  {
   "cell_type": "markdown",
   "id": "0719a588",
   "metadata": {
    "slideshow": {
     "slide_type": "subslide"
    }
   },
   "source": [
    "De modo a completar o modelo é necessária uma expressão para a força eletromagnética $F_{em}$, que é gerada pela energia armazenada na bobina do solenoide. A partir do princípio de trabalho e energia, sabe-se que o produto da força eletromagnética e de um deslocamento incremental $dx$ é igual a uma variação incremental na energia $d\\xi$.\n",
    "\n",
    "$F_{em} dx = d \\xi$\n",
    "\n",
    "Resolvendo para a força eletromagnética:\n",
    "\n",
    "$F_{em} = \\dfrac{d \\xi}{dx}$\n",
    "\n",
    "A energia armazenada em um indutor é devida à indutância e à corrente:\n",
    "\n",
    "$\\xi = \\dfrac{1}{2}LI^2$\n",
    "\n",
    "Portanto, tomando a derivada da energia em relação ao deslocamento $x$ e substituindo na equação da $F_{em}$, tem-se uma expressão para a força eletromagnética:\n",
    "\n",
    "$F_{em} = \\dfrac{1}{2} \\dfrac{dL}{dx} I^{2}$"
   ]
  },
  {
   "cell_type": "markdown",
   "id": "917df107",
   "metadata": {
    "slideshow": {
     "slide_type": "subslide"
    }
   },
   "source": [
    "Pode-se ver que a força eletromagnética é uma função não linear da corrente e do deslocamento, pois a derivada $L_x$ é uma função não linear de $x$.\n",
    "\n",
    "O modelo matemático completo do atuador solenoide consiste em uma equação para o sistema elétrico e uma para o sistema mecânico juntamente com a equação usada para definir a força eletromagnética. \n",
    "\n",
    "$L(x) \\dot{I} + R I = e_{ent}(t) - L_{x}\\dot{x} I$\n",
    "\n",
    "$m \\ddot{x} + b \\dot{x} + k x = \\dfrac{1}{2} L_{x} I^{2}$"
   ]
  }
 ],
 "metadata": {
  "kernelspec": {
   "display_name": "Python 3 (ipykernel)",
   "language": "python",
   "name": "python3"
  },
  "language_info": {
   "codemirror_mode": {
    "name": "ipython",
    "version": 3
   },
   "file_extension": ".py",
   "mimetype": "text/x-python",
   "name": "python",
   "nbconvert_exporter": "python",
   "pygments_lexer": "ipython3",
   "version": "3.10.6"
  }
 },
 "nbformat": 4,
 "nbformat_minor": 5
}
