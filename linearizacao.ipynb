{
 "cells": [
  {
   "cell_type": "markdown",
   "id": "6a64c38a",
   "metadata": {
    "slideshow": {
     "slide_type": "slide"
    }
   },
   "source": [
    "# Linearização de modelos matemáticos não lineares\n",
    "\n",
    "Este material serve apenas como um guia para estudos e para as aulas, não substituindo a leitura dos livros indicados e é de uso exclusivo dos alunos do CEFET/RJ campus Angra dos Reis.\n",
    "\n",
    "---"
   ]
  },
  {
   "cell_type": "markdown",
   "id": "aa6ff94d",
   "metadata": {
    "slideshow": {
     "slide_type": "subslide"
    }
   },
   "source": [
    "## Ponto de Equilíbrio"
   ]
  },
  {
   "cell_type": "markdown",
   "id": "57386a8a",
   "metadata": {
    "slideshow": {
     "slide_type": "subslide"
    }
   },
   "source": [
    "Define-se um ponto de equilíbrio, ou ponto fixo de um sistema dinâmica, como sendo o ponto em que o sistema permanece estacionário na medida em que o tempo evolui.\n",
    "\n",
    "→ Um ponto de equililíbrio é um ponto onde a solução não varia com o tempo.\n",
    "→ Pensando em termos mecânicos, um ponto de equilíbrio está associado a uma posição onde o sistema possui velocidade e acelerações nulas. \n"
   ]
  },
  {
   "cell_type": "markdown",
   "id": "427381ca",
   "metadata": {
    "slideshow": {
     "slide_type": "subslide"
    }
   },
   "source": [
    "* Ponto de Equilíbrio\n",
    "* Ponto de Operação"
   ]
  },
  {
   "cell_type": "markdown",
   "id": "8d1bdb8d",
   "metadata": {
    "slideshow": {
     "slide_type": "subslide"
    }
   },
   "source": [
    "Para obter um modelo matemático linear de um sistema não linear, admitimos que as variáveis desviem apenas ligeiramente de alguma condição de operação, ou ponto de equilíbrio. \n",
    "\n",
    "Considere um sistema em que $x(t)$ é a entrada e a saída é $y(t)$:\n",
    "\n",
    "$y = f(x)$\n",
    "\n",
    "Se a condição de operação normal corresponde a $\\bar{x}$, $\\bar{y}$ então podemos expandir essa equação em uma série de Taylor em torno desse ponto:\n",
    "\n",
    "$y = f(x)$\n",
    "    $= f(\\bar{x}) + \\dfrac{df}{dx}(x - \\bar{x}) + \\dfrac{1}{2!} \\dfrac{d^2f}{dx^2}(x - \\bar{x})^2 + ...$\n",
    "    \n",
    "Onde as derivadas são avaliadas em $x - \\bar{x}$\n",
    "Se a variação de $x - \\bar{x}$ for pequena, podemos desprezar os termos de ordem mais elevada."
   ]
  },
  {
   "cell_type": "markdown",
   "id": "980d7430",
   "metadata": {
    "slideshow": {
     "slide_type": "subslide"
    }
   },
   "source": [
    "$y = \\bar{y} + K(x - \\bar{x})$\n",
    "\n",
    "$\\bar{y} = f(\\bar{x})$\n",
    "\n",
    "$K = \\left. \\dfrac{df}{dx} \\right|_{x = \\bar{x}}$"
   ]
  },
  {
   "cell_type": "markdown",
   "id": "6c344e74",
   "metadata": {
    "slideshow": {
     "slide_type": "subslide"
    }
   },
   "source": [
    "Exemplo:\n",
    "Linearize a equação não linear $z = xy$ na região $5 \\leq x \\leq 7$, $10 \\leq y \\leq 12$. Encontre o erro para o caso em que a equação linearizada seja utilizada para calcular o valor de z quando $x = 5$ e $y = 10$"
   ]
  }
 ],
 "metadata": {
  "kernelspec": {
   "display_name": "Python 3 (ipykernel)",
   "language": "python",
   "name": "python3"
  },
  "language_info": {
   "codemirror_mode": {
    "name": "ipython",
    "version": 3
   },
   "file_extension": ".py",
   "mimetype": "text/x-python",
   "name": "python",
   "nbconvert_exporter": "python",
   "pygments_lexer": "ipython3",
   "version": "3.10.6"
  }
 },
 "nbformat": 4,
 "nbformat_minor": 5
}
